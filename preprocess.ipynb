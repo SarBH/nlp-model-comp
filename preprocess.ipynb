{
 "cells": [
  {
   "cell_type": "markdown",
   "metadata": {},
   "source": [
    "# 1. Document Classification"
   ]
  },
  {
   "cell_type": "code",
   "execution_count": 2,
   "metadata": {},
   "outputs": [
    {
     "name": "stdout",
     "output_type": "stream",
     "text": [
      "2.4.1\n"
     ]
    }
   ],
   "source": [
    "import tensorflow as tf\n",
    "print(tf.__version__)\n",
    "gpus = tf.config.list_physical_devices('GPU')\n",
    "for device in gpus:\n",
    "    tf.config.experimental.set_memory_growth(device, True)"
   ]
  },
  {
   "cell_type": "code",
   "execution_count": 3,
   "metadata": {},
   "outputs": [
    {
     "name": "stderr",
     "output_type": "stream",
     "text": [
      "[nltk_data] Downloading package stopwords to /root/nltk_data...\n",
      "[nltk_data]   Package stopwords is already up-to-date!\n",
      "[nltk_data] Downloading package punkt to /root/nltk_data...\n",
      "[nltk_data]   Package punkt is already up-to-date!\n"
     ]
    }
   ],
   "source": [
    "import pandas as pd\n",
    "import numpy as np\n",
    "import matplotlib.pyplot as plt\n",
    "import nltk\n",
    "nltk.download('stopwords')\n",
    "nltk.download('punkt')\n",
    "import string\n",
    "import csv\n",
    "from sklearn.model_selection import train_test_split"
   ]
  },
  {
   "cell_type": "markdown",
   "metadata": {},
   "source": [
    "## (a) Preprocess"
   ]
  },
  {
   "cell_type": "code",
   "execution_count": 4,
   "metadata": {},
   "outputs": [],
   "source": [
    "def import_pretrained_embeddings(path):\n",
    "    embeddings_dict = {}\n",
    "    with open(path, 'r', encoding='utf-8') as f:\n",
    "        for line in f:\n",
    "            values = line.split()\n",
    "            word = values[0]\n",
    "            vector = np.asarray(values[1:], \"float32\")\n",
    "            embeddings_dict[word] = vector\n",
    "    return embeddings_dict"
   ]
  },
  {
   "cell_type": "code",
   "execution_count": 5,
   "metadata": {},
   "outputs": [],
   "source": [
    "def find_closest_embeddings(embedding):\n",
    "    return sorted(embeddings_dict.keys(), key=lambda word: spatial.distance.euclidean(embeddings_dict[word], embedding))"
   ]
  },
  {
   "cell_type": "code",
   "execution_count": 6,
   "metadata": {},
   "outputs": [],
   "source": [
    "author_encode = {'fd':0, 'ja': 1, 'acd': 2}"
   ]
  },
  {
   "cell_type": "code",
   "execution_count": 7,
   "metadata": {},
   "outputs": [],
   "source": [
    "def import_data(filepaths_dict, embedding):\n",
    "    \n",
    "    stop_words = set(nltk.corpus.stopwords.words('english'))\n",
    "    \n",
    "#     lst_all = []\n",
    "    x_all = []\n",
    "    y_all = []\n",
    "    \n",
    "    for author, filepath in filepaths_dict.items():\n",
    "        # get rows from .txt file\n",
    "        with open(filepath) as f:\n",
    "            reader = f.read()\n",
    "            reader = reader.split(\"\\n\\n\")\n",
    "\n",
    "            tokenized_paragraphs = []\n",
    "            print(f\"author {author} has {len(reader)} samples\")\n",
    "            # iterate through every text row to clean it up\n",
    "            for sample_idx, paragraph in enumerate(reader):\n",
    "                # 1. remove punctuations\n",
    "                paragraph = paragraph.translate(str.maketrans('','',string.punctuation))\n",
    "                paragraph = paragraph.replace('\\n', ' ')\n",
    "                # 2. tokenize\n",
    "                tokens = nltk.word_tokenize(paragraph)\n",
    "                # 3. remove stop words\n",
    "\n",
    "                vectors = []\n",
    "                \n",
    "                for token in tokens:\n",
    "                    if not token in stop_words:\n",
    "                        try:\n",
    "                            vector = embedding[token.lower()]\n",
    "                            vectors.append(vector)\n",
    "                        except KeyError:\n",
    "                            continue\n",
    "                            \n",
    "#                 thisrow = [vectors, author]\n",
    "#                 lst_all.append(thisrow)\n",
    "                x_all.append(vectors)\n",
    "                y_all.append(author_encode[author])\n",
    "                \n",
    "    \n",
    "    return x_all, y_all\n",
    "\n"
   ]
  },
  {
   "cell_type": "markdown",
   "metadata": {},
   "source": [
    "Run the functions defined above"
   ]
  },
  {
   "cell_type": "code",
   "execution_count": 8,
   "metadata": {},
   "outputs": [],
   "source": [
    "embeddings_dict = import_pretrained_embeddings('glove.6B.50d.txt')"
   ]
  },
  {
   "cell_type": "code",
   "execution_count": 9,
   "metadata": {},
   "outputs": [
    {
     "name": "stdout",
     "output_type": "stream",
     "text": [
      "author fd has 6055 samples\n",
      "author acd has 2548 samples\n",
      "author ja has 11495 samples\n"
     ]
    }
   ],
   "source": [
    "filepaths_dict = {'fd': './a4-data/q1/fd.txt',\n",
    "            'acd': './a4-data/q1/acd.txt',\n",
    "            'ja': './a4-data/q1/ja.txt'}\n",
    "\n",
    "x, y = import_data(filepaths_dict, embeddings_dict)"
   ]
  },
  {
   "cell_type": "code",
   "execution_count": 10,
   "metadata": {},
   "outputs": [],
   "source": [
    "y = np.array(y)\n",
    "y = tf.keras.utils.to_categorical(y, num_classes=3)"
   ]
  },
  {
   "cell_type": "code",
   "execution_count": 11,
   "metadata": {},
   "outputs": [],
   "source": [
    "assert(len(x) == len(y) == 6055+2548+11495)"
   ]
  },
  {
   "cell_type": "code",
   "execution_count": 12,
   "metadata": {},
   "outputs": [],
   "source": [
    "vocab_size = len(embeddings_dict.keys())"
   ]
  },
  {
   "cell_type": "code",
   "execution_count": 13,
   "metadata": {},
   "outputs": [],
   "source": [
    "x = tf.keras.preprocessing.sequence.pad_sequences(x, maxlen=500)\n"
   ]
  },
  {
   "cell_type": "markdown",
   "metadata": {},
   "source": [
    "### Split into training and testing"
   ]
  },
  {
   "cell_type": "code",
   "execution_count": 14,
   "metadata": {
    "scrolled": true
   },
   "outputs": [],
   "source": [
    "X_train, x, y_train, y = train_test_split(x, y, test_size=0.4, random_state=42)"
   ]
  },
  {
   "cell_type": "code",
   "execution_count": 15,
   "metadata": {},
   "outputs": [],
   "source": [
    "X_val, X_test, y_val, y_test = train_test_split(x, y, test_size=0.25, random_state=28)"
   ]
  },
  {
   "cell_type": "code",
   "execution_count": null,
   "metadata": {},
   "outputs": [],
   "source": [
    "print(\"Sizes of sets:\")\n",
    "print(\"X_train:\", X_train.shape)\n",
    "print(\"y_train:\", y_train.shape)\n",
    "print(\"X_val:\", X_val.shape)\n",
    "print(\"y_val:\", y_val.shape)\n",
    "print(\"X_test\", X_test.shape)\n",
    "print(\"y_test\", y_test.shape)"
   ]
  },
  {
   "cell_type": "markdown",
   "metadata": {},
   "source": [
    "There is an obscure bug with the Tensorflow + CuDNN install for GPUs that occurs when there is a remainder when creating batches of data. To avoid this error, I adjusted the training dat"
   ]
  },
  {
   "cell_type": "code",
   "execution_count": 18,
   "metadata": {},
   "outputs": [],
   "source": [
    "X_train = X_train[0:12000]\n",
    "y_train = y_train[0:12000]\n",
    "X_val = X_val[0:6000]\n",
    "y_val = y_val[0:6000]\n",
    "X_test = X_test[0:2000]\n",
    "y_test = y_test[0:2000]"
   ]
  },
  {
   "cell_type": "code",
   "execution_count": null,
   "metadata": {},
   "outputs": [],
   "source": []
  },
  {
   "cell_type": "markdown",
   "metadata": {},
   "source": [
    "## (b) Build your models"
   ]
  },
  {
   "cell_type": "markdown",
   "metadata": {},
   "source": [
    "### LSTM using only last hidden state"
   ]
  },
  {
   "cell_type": "code",
   "execution_count": 18,
   "metadata": {
    "scrolled": true
   },
   "outputs": [
    {
     "name": "stdout",
     "output_type": "stream",
     "text": [
      "Model: \"sequential\"\n",
      "_________________________________________________________________\n",
      "Layer (type)                 Output Shape              Param #   \n",
      "=================================================================\n",
      "lstm (LSTM)                  (50, 100)                 60400     \n",
      "_________________________________________________________________\n",
      "dense (Dense)                (50, 100)                 10100     \n",
      "_________________________________________________________________\n",
      "dense_1 (Dense)              (50, 3)                   303       \n",
      "=================================================================\n",
      "Total params: 70,803\n",
      "Trainable params: 70,803\n",
      "Non-trainable params: 0\n",
      "_________________________________________________________________\n",
      "None\n"
     ]
    }
   ],
   "source": [
    "# define model\n",
    "last_hs_model = tf.keras.Sequential()\n",
    "# last_hs_model.add(tf.keras.layers.Embedding(vocab_size, 50, input_length=500))\n",
    "# model.add(tf.keras.layers.LSTM(100, return_sequences=True))\n",
    "last_hs_model.add(tf.keras.layers.LSTM(100, batch_input_shape=(50,500,50)))\n",
    "last_hs_model.add(tf.keras.layers.Dense(100, activation='relu'))\n",
    "last_hs_model.add(tf.keras.layers.Dense(3, activation='softmax'))\n",
    "print(last_hs_model.summary())"
   ]
  },
  {
   "cell_type": "code",
   "execution_count": 19,
   "metadata": {},
   "outputs": [],
   "source": [
    "last_hs_model.compile(optimizer='adam', loss='categorical_crossentropy', metrics=['accuracy'])"
   ]
  },
  {
   "cell_type": "code",
   "execution_count": 20,
   "metadata": {},
   "outputs": [
    {
     "name": "stdout",
     "output_type": "stream",
     "text": [
      "Epoch 1/4\n",
      "240/240 [==============================] - 11s 27ms/step - loss: 0.7687 - accuracy: 0.6764 - val_loss: 0.5375 - val_accuracy: 0.7892\n",
      "Epoch 2/4\n",
      "240/240 [==============================] - 6s 25ms/step - loss: 0.5133 - accuracy: 0.7964 - val_loss: 0.4945 - val_accuracy: 0.8023\n",
      "Epoch 3/4\n",
      "240/240 [==============================] - 6s 25ms/step - loss: 0.4343 - accuracy: 0.8235 - val_loss: 0.4104 - val_accuracy: 0.8343\n",
      "Epoch 4/4\n",
      "240/240 [==============================] - 6s 25ms/step - loss: 0.3791 - accuracy: 0.8419 - val_loss: 0.4175 - val_accuracy: 0.8262\n"
     ]
    }
   ],
   "source": [
    "last_hs_history = last_hs_model.fit(x=X_train, y=y_train, validation_data=(X_val, y_val), batch_size=50, epochs=12)"
   ]
  },
  {
   "cell_type": "markdown",
   "metadata": {},
   "source": [
    "### LSTM using the element wise average of all the hidden states"
   ]
  },
  {
   "cell_type": "code",
   "execution_count": 19,
   "metadata": {},
   "outputs": [
    {
     "name": "stdout",
     "output_type": "stream",
     "text": [
      "Model: \"sequential\"\n",
      "_________________________________________________________________\n",
      "Layer (type)                 Output Shape              Param #   \n",
      "=================================================================\n",
      "lstm (LSTM)                  (50, 500, 100)            60400     \n",
      "_________________________________________________________________\n",
      "global_average_pooling1d (Gl (50, 100)                 0         \n",
      "_________________________________________________________________\n",
      "dense (Dense)                (50, 100)                 10100     \n",
      "_________________________________________________________________\n",
      "dense_1 (Dense)              (50, 3)                   303       \n",
      "=================================================================\n",
      "Total params: 70,803\n",
      "Trainable params: 70,803\n",
      "Non-trainable params: 0\n",
      "_________________________________________________________________\n",
      "None\n"
     ]
    }
   ],
   "source": [
    "# define model\n",
    "all_hs_model = tf.keras.Sequential()\n",
    "# all_hs_model.add(tf.keras.layers.Embedding(vocab_size, 50))\n",
    "all_hs_model.add(tf.keras.layers.LSTM(100, return_sequences=True, batch_input_shape=(50,500,50)))\n",
    "all_hs_model.add(tf.keras.layers.GlobalAveragePooling1D())\n",
    "all_hs_model.add(tf.keras.layers.Dense(100, activation='relu'))\n",
    "all_hs_model.add(tf.keras.layers.Dense(3, activation='softmax'))\n",
    "print(all_hs_model.summary())"
   ]
  },
  {
   "cell_type": "code",
   "execution_count": 20,
   "metadata": {},
   "outputs": [],
   "source": [
    "all_hs_model.compile(optimizer='adam', loss='categorical_crossentropy', metrics=['accuracy'])"
   ]
  },
  {
   "cell_type": "code",
   "execution_count": 22,
   "metadata": {},
   "outputs": [
    {
     "name": "stdout",
     "output_type": "stream",
     "text": [
      "Epoch 1/8\n",
      "240/240 [==============================] - 7s 27ms/step - loss: 0.4118 - accuracy: 0.8399 - val_loss: 0.4254 - val_accuracy: 0.8280\n",
      "Epoch 2/8\n",
      "240/240 [==============================] - 6s 25ms/step - loss: 0.3875 - accuracy: 0.8474 - val_loss: 0.4003 - val_accuracy: 0.8405\n",
      "Epoch 3/8\n",
      "240/240 [==============================] - 6s 26ms/step - loss: 0.3728 - accuracy: 0.8493 - val_loss: 0.3891 - val_accuracy: 0.8433\n",
      "Epoch 4/8\n",
      "240/240 [==============================] - 6s 25ms/step - loss: 0.3513 - accuracy: 0.8575 - val_loss: 0.3841 - val_accuracy: 0.8465\n",
      "Epoch 5/8\n",
      "240/240 [==============================] - 6s 25ms/step - loss: 0.3390 - accuracy: 0.8633 - val_loss: 0.3807 - val_accuracy: 0.8492\n",
      "Epoch 6/8\n",
      "240/240 [==============================] - 6s 25ms/step - loss: 0.3263 - accuracy: 0.8669 - val_loss: 0.3717 - val_accuracy: 0.8515\n",
      "Epoch 7/8\n",
      "240/240 [==============================] - 6s 25ms/step - loss: 0.3140 - accuracy: 0.8708 - val_loss: 0.3730 - val_accuracy: 0.8528\n",
      "Epoch 8/8\n",
      "240/240 [==============================] - 6s 25ms/step - loss: 0.3060 - accuracy: 0.8753 - val_loss: 0.3984 - val_accuracy: 0.8553\n"
     ]
    }
   ],
   "source": [
    "all_hs_history = all_hs_model.fit(x=X_train, y=y_train, validation_data=(X_val, y_val), batch_size=50, epochs=12)"
   ]
  },
  {
   "cell_type": "code",
   "execution_count": 20,
   "metadata": {},
   "outputs": [],
   "source": [
    "class_weights = {0: 0.6985, 1:0.8732, 2:0.4280}"
   ]
  }
 ],
 "metadata": {
  "kernelspec": {
   "display_name": "Python 3",
   "language": "python",
   "name": "python3"
  },
  "language_info": {
   "codemirror_mode": {
    "name": "ipython",
    "version": 3
   },
   "file_extension": ".py",
   "mimetype": "text/x-python",
   "name": "python",
   "nbconvert_exporter": "python",
   "pygments_lexer": "ipython3",
   "version": "3.6.9"
  }
 },
 "nbformat": 4,
 "nbformat_minor": 2
}
