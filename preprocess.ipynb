{
 "cells": [
  {
   "cell_type": "markdown",
   "metadata": {},
   "source": [
    "# 1. Document Classification"
   ]
  },
  {
   "cell_type": "code",
   "execution_count": 1,
   "metadata": {},
   "outputs": [
    {
     "output_type": "stream",
     "name": "stdout",
     "text": [
      "2.4.1\n"
     ]
    },
    {
     "output_type": "execute_result",
     "data": {
      "text/plain": [
       "[]"
      ]
     },
     "metadata": {},
     "execution_count": 1
    }
   ],
   "source": [
    "import tensorflow as tf\n",
    "print(tf.__version__)\n",
    "tf.config.list_physical_devices('GPU')"
   ]
  },
  {
   "cell_type": "code",
   "execution_count": 2,
   "metadata": {},
   "outputs": [
    {
     "output_type": "stream",
     "name": "stderr",
     "text": [
      "[nltk_data] Downloading package stopwords to /home/sarita/nltk_data...\n[nltk_data]   Package stopwords is already up-to-date!\n[nltk_data] Downloading package punkt to /home/sarita/nltk_data...\n[nltk_data]   Package punkt is already up-to-date!\n"
     ]
    }
   ],
   "source": [
    "import pandas as pd\n",
    "import numpy as np\n",
    "import matplotlib.pyplot as plt\n",
    "import nltk\n",
    "nltk.download('stopwords')\n",
    "nltk.download('punkt')\n",
    "import string\n",
    "import csv\n",
    "from sklearn.model_selection import train_test_split"
   ]
  },
  {
   "cell_type": "markdown",
   "metadata": {},
   "source": [
    "## (a) Preprocess"
   ]
  },
  {
   "cell_type": "code",
   "execution_count": 3,
   "metadata": {},
   "outputs": [],
   "source": [
    "def import_pretrained_embeddings(path):\n",
    "    embeddings_dict = {}\n",
    "    with open(path, 'r', encoding='utf-8') as f:\n",
    "        for line in f:\n",
    "            values = line.split()\n",
    "            word = values[0]\n",
    "            vector = np.asarray(values[1:], \"float32\")\n",
    "            embeddings_dict[word] = vector\n",
    "    return embeddings_dict"
   ]
  },
  {
   "cell_type": "code",
   "execution_count": 4,
   "metadata": {},
   "outputs": [],
   "source": [
    "def find_closest_embeddings(embedding):\n",
    "    return sorted(embeddings_dict.keys(), key=lambda word: spatial.distance.euclidean(embeddings_dict[word], embedding))"
   ]
  },
  {
   "cell_type": "code",
   "execution_count": 5,
   "metadata": {},
   "outputs": [],
   "source": [
    "author_encode = {'fd':0, 'ja': 1, 'acd': 2}"
   ]
  },
  {
   "cell_type": "code",
   "execution_count": 6,
   "metadata": {},
   "outputs": [],
   "source": [
    "def import_data(filepaths_dict, embedding):\n",
    "    \n",
    "    stop_words = set(nltk.corpus.stopwords.words('english'))\n",
    "    \n",
    "#     lst_all = []\n",
    "    x_all = []\n",
    "    y_all = []\n",
    "    \n",
    "    for author, filepath in filepaths_dict.items():\n",
    "        # get rows from .txt file\n",
    "        with open(filepath) as f:\n",
    "            reader = f.read()\n",
    "            reader = reader.split(\"\\n\\n\")\n",
    "\n",
    "            tokenized_paragraphs = []\n",
    "            print(f\"author {author} has {len(reader)} samples\")\n",
    "            # iterate through every text row to clean it up\n",
    "            for sample_idx, paragraph in enumerate(reader):\n",
    "                # 1. remove punctuations\n",
    "                paragraph = paragraph.translate(str.maketrans('','',string.punctuation))\n",
    "                paragraph = paragraph.replace('\\n', ' ')\n",
    "                # 2. tokenize\n",
    "                tokens = nltk.word_tokenize(paragraph)\n",
    "                # 3. remove stop words\n",
    "\n",
    "                vectors = []\n",
    "                \n",
    "                for token in tokens:\n",
    "                    if not token in stop_words:\n",
    "                        try:\n",
    "                            vector = embedding[token.lower()]\n",
    "                            vectors.append(vector)\n",
    "                        except KeyError:\n",
    "                            continue\n",
    "                            \n",
    "#                 thisrow = [vectors, author]\n",
    "#                 lst_all.append(thisrow)\n",
    "                x_all.append(vectors)\n",
    "                y_all.append(author_encode[author])\n",
    "                \n",
    "    \n",
    "    return x_all, y_all\n",
    "\n"
   ]
  },
  {
   "cell_type": "markdown",
   "metadata": {},
   "source": [
    "Run the functions defined above"
   ]
  },
  {
   "cell_type": "code",
   "execution_count": 7,
   "metadata": {},
   "outputs": [],
   "source": [
    "embeddings_dict = import_pretrained_embeddings('glove.6B.50d.txt')"
   ]
  },
  {
   "cell_type": "code",
   "execution_count": 8,
   "metadata": {},
   "outputs": [
    {
     "output_type": "stream",
     "name": "stdout",
     "text": [
      "author fd has 6055 samples\n",
      "author acd has 2548 samples\n",
      "author ja has 11495 samples\n"
     ]
    }
   ],
   "source": [
    "filepaths_dict = {'fd': './a4-data/q1/fd.txt',\n",
    "            'acd': './a4-data/q1/acd.txt',\n",
    "            'ja': './a4-data/q1/ja.txt'}\n",
    "\n",
    "x, y = import_data(filepaths_dict, embeddings_dict)"
   ]
  },
  {
   "cell_type": "code",
   "execution_count": 9,
   "metadata": {},
   "outputs": [],
   "source": [
    "y = np.array(y)\n",
    "y = tf.keras.utils.to_categorical(y, num_classes=3)"
   ]
  },
  {
   "cell_type": "code",
   "execution_count": 10,
   "metadata": {},
   "outputs": [],
   "source": [
    "assert(len(x) == len(y) == 6055+2548+11495)"
   ]
  },
  {
   "cell_type": "code",
   "execution_count": 11,
   "metadata": {},
   "outputs": [],
   "source": [
    "vocab_size = len(embeddings_dict.keys())"
   ]
  },
  {
   "cell_type": "code",
   "execution_count": 12,
   "metadata": {},
   "outputs": [],
   "source": [
    "x = tf.keras.preprocessing.sequence.pad_sequences(x, maxlen=500)\n"
   ]
  },
  {
   "cell_type": "markdown",
   "metadata": {},
   "source": [
    "### Split into training and testing"
   ]
  },
  {
   "cell_type": "code",
   "execution_count": 13,
   "metadata": {
    "scrolled": true
   },
   "outputs": [],
   "source": [
    "X_train, x, y_train, y = train_test_split(x, y, test_size=0.4, random_state=42)"
   ]
  },
  {
   "cell_type": "code",
   "execution_count": 14,
   "metadata": {},
   "outputs": [],
   "source": [
    "X_val, X_test, y_val, y_test = train_test_split(x, y, test_size=0.25, random_state=28)"
   ]
  },
  {
   "cell_type": "code",
   "execution_count": 15,
   "metadata": {},
   "outputs": [
    {
     "output_type": "stream",
     "name": "stdout",
     "text": [
      "Sizes of sets:\nX_train: (12058, 500, 50)\ny_train: (12058, 3)\nX_val: (6030, 500, 50)\ny_val: (6030, 3)\nX_test (2010, 500, 50)\ny_test (2010, 3)\n"
     ]
    }
   ],
   "source": [
    "print(\"Sizes of sets:\")\n",
    "print(\"X_train:\", X_train.shape)\n",
    "print(\"y_train:\", y_train.shape)\n",
    "print(\"X_val:\", X_val.shape)\n",
    "print(\"y_val:\", y_val.shape)\n",
    "print(\"X_test\", X_test.shape)\n",
    "print(\"y_test\", y_test.shape)"
   ]
  },
  {
   "cell_type": "code",
   "execution_count": 16,
   "metadata": {},
   "outputs": [],
   "source": [
    "# assert(len(X_train) + len(X_val) + len(X_test) == len(x))"
   ]
  },
  {
   "cell_type": "code",
   "execution_count": null,
   "metadata": {},
   "outputs": [],
   "source": []
  },
  {
   "cell_type": "code",
   "execution_count": null,
   "metadata": {},
   "outputs": [],
   "source": []
  },
  {
   "cell_type": "markdown",
   "metadata": {},
   "source": [
    "## (b) Build your models"
   ]
  },
  {
   "cell_type": "markdown",
   "metadata": {},
   "source": [
    "### LSTM using only last hidden state"
   ]
  },
  {
   "cell_type": "code",
   "execution_count": 28,
   "metadata": {
    "scrolled": true
   },
   "outputs": [
    {
     "output_type": "stream",
     "name": "stdout",
     "text": [
      "Model: \"sequential_5\"\n_________________________________________________________________\nLayer (type)                 Output Shape              Param #   \n=================================================================\nlstm_5 (LSTM)                (None, 100)               60400     \n_________________________________________________________________\ndense_10 (Dense)             (None, 100)               10100     \n_________________________________________________________________\ndense_11 (Dense)             (None, 3)                 303       \n=================================================================\nTotal params: 70,803\nTrainable params: 70,803\nNon-trainable params: 0\n_________________________________________________________________\nNone\n"
     ]
    }
   ],
   "source": [
    "# define model\n",
    "last_hs_model = tf.keras.Sequential()\n",
    "# last_hs_model.add(tf.keras.layers.Embedding(vocab_size, 50, input_length=500))\n",
    "# model.add(tf.keras.layers.LSTM(100, return_sequences=True))\n",
    "last_hs_model.add(tf.keras.layers.LSTM(100, input_shape=(500,50)))\n",
    "last_hs_model.add(tf.keras.layers.Dense(100, activation='relu'))\n",
    "last_hs_model.add(tf.keras.layers.Dense(3, activation='softmax'))\n",
    "print(last_hs_model.summary())"
   ]
  },
  {
   "cell_type": "code",
   "execution_count": 32,
   "metadata": {},
   "outputs": [],
   "source": [
    "last_hs_model.compile(optimizer='adam', loss='categorical_crossentropy', metrics=['accuracy'])"
   ]
  },
  {
   "cell_type": "code",
   "execution_count": 35,
   "metadata": {},
   "outputs": [],
   "source": [
    "class_weights = {0: 0.6985, 1:0.8732, 2:0.4280}"
   ]
  },
  {
   "cell_type": "code",
   "execution_count": 33,
   "metadata": {},
   "outputs": [],
   "source": [
    "last_hs_history = last_hs_model.fit(x=X_train, y=y_train, validation_data=(X_val, y_val), batch_size=16, epochs=4)"
   ]
  },
  {
   "cell_type": "markdown",
   "metadata": {},
   "source": [
    "### LSTM using the element wise average of all the hidden states"
   ]
  },
  {
   "cell_type": "code",
   "execution_count": 153,
   "metadata": {},
   "outputs": [
    {
     "name": "stdout",
     "output_type": "stream",
     "text": [
      "Model: \"sequential_8\"\n",
      "_________________________________________________________________\n",
      "Layer (type)                 Output Shape              Param #   \n",
      "=================================================================\n",
      "embedding_7 (Embedding)      (None, None, 50)          20000000  \n",
      "_________________________________________________________________\n",
      "lstm_5 (LSTM)                (None, None, 100)         60400     \n",
      "_________________________________________________________________\n",
      "global_average_pooling1d (Gl (None, 100)               0         \n",
      "_________________________________________________________________\n",
      "dense_6 (Dense)              (None, 100)               10100     \n",
      "_________________________________________________________________\n",
      "dense_7 (Dense)              (None, 3)                 303       \n",
      "=================================================================\n",
      "Total params: 20,070,803\n",
      "Trainable params: 20,070,803\n",
      "Non-trainable params: 0\n",
      "_________________________________________________________________\n",
      "None\n"
     ]
    }
   ],
   "source": [
    "# define model\n",
    "all_hs_model = tf.keras.Sequential()\n",
    "# all_hs_model.add(tf.keras.layers.Embedding(vocab_size, 50))\n",
    "all_hs_model.add(tf.keras.layers.LSTM(100, return_sequences=True))\n",
    "all_hs_model.add(tf.keras.layers.GlobalAveragePooling1D())\n",
    "all_hs_model.add(tf.keras.layers.Dense(100, activation='relu'))\n",
    "all_hs_model.add(tf.keras.layers.Dense(3, activation='softmax'))\n",
    "print(all_hs_model.summary())"
   ]
  },
  {
   "cell_type": "code",
   "execution_count": null,
   "metadata": {},
   "outputs": [],
   "source": []
  }
 ],
 "metadata": {
  "kernelspec": {
   "name": "python385jvsc74a57bd05f6209874e0ec80e1de801bb1068e5b2594950559237708d156a25ea69bcfe7e",
   "display_name": "Python 3.8.5 64-bit ('venv')"
  },
  "language_info": {
   "codemirror_mode": {
    "name": "ipython",
    "version": 3
   },
   "file_extension": ".py",
   "mimetype": "text/x-python",
   "name": "python",
   "nbconvert_exporter": "python",
   "pygments_lexer": "ipython3",
   "version": "3.8.5-final"
  }
 },
 "nbformat": 4,
 "nbformat_minor": 2
}