{
 "cells": [
  {
   "cell_type": "markdown",
   "metadata": {},
   "source": [
    "# 1. Document Classification"
   ]
  },
  {
   "cell_type": "code",
   "execution_count": 2,
   "metadata": {},
   "outputs": [
    {
     "name": "stdout",
     "output_type": "stream",
     "text": [
      "2.4.1\n"
     ]
    }
   ],
   "source": [
    "import tensorflow as tf\n",
    "print(tf.__version__)\n",
    "gpus = tf.config.list_physical_devices('GPU')\n",
    "for device in gpus:\n",
    "    print(device)\n",
    "    tf.config.experimental.set_memory_growth(device, True)"
   ]
  },
  {
   "cell_type": "code",
   "execution_count": 3,
   "metadata": {},
   "outputs": [
    {
     "name": "stderr",
     "output_type": "stream",
     "text": [
      "[nltk_data] Downloading package stopwords to /root/nltk_data...\n",
      "[nltk_data]   Package stopwords is already up-to-date!\n",
      "[nltk_data] Downloading package punkt to /root/nltk_data...\n",
      "[nltk_data]   Package punkt is already up-to-date!\n"
     ]
    }
   ],
   "source": [
    "import pandas as pd\n",
    "import numpy as np\n",
    "import matplotlib.pyplot as plt\n",
    "import nltk\n",
    "nltk.download('stopwords')\n",
    "nltk.download('punkt')\n",
    "import string\n",
    "import csv\n",
    "from sklearn.model_selection import train_test_split\n",
    "from sklearn.metrics import classification_report"
   ]
  },
  {
   "cell_type": "code",
   "execution_count": 4,
   "metadata": {},
   "outputs": [],
   "source": [
    "# import xml.etree.ElementTree as ET\n",
    "from lxml import etree\n"
   ]
  },
  {
   "cell_type": "markdown",
   "metadata": {},
   "source": [
    "## (a) Preprocess"
   ]
  },
  {
   "cell_type": "code",
   "execution_count": 5,
   "metadata": {},
   "outputs": [],
   "source": [
    "def import_pretrained_embeddings(path):\n",
    "    embeddings_dict = {}\n",
    "    with open(path, 'r', encoding='utf-8') as f:\n",
    "        for line in f:\n",
    "            values = line.split()\n",
    "            word = values[0]\n",
    "            vector = np.asarray(values[1:], \"float32\")\n",
    "            embeddings_dict[word] = vector\n",
    "    return embeddings_dict"
   ]
  },
  {
   "cell_type": "code",
   "execution_count": 6,
   "metadata": {},
   "outputs": [],
   "source": [
    "def import_data(filepaths_dict, embedding):    \n",
    "    x_all = []\n",
    "    y_all = []\n",
    "    \n",
    "    for label, filepath in filepaths_dict.items():\n",
    "        # get rows from .txt file\n",
    "        with open(filepath) as f:\n",
    "            reader = f.read()\n",
    "            reader = reader.split(\"\\n\\n\")\n",
    "\n",
    "            tokenized_paragraphs = []\n",
    "            print(f\"class {label} has {len(reader)} samples\")\n",
    "            # iterate through every text row to clean it up\n",
    "            for sample_idx, paragraph in enumerate(reader):\n",
    "                # 1. remove punctuations\n",
    "                paragraph = paragraph.translate(str.maketrans('','',string.punctuation))\n",
    "                paragraph = paragraph.replace('\\n', ' ')\n",
    "                # 2. tokenize\n",
    "                tokens = nltk.word_tokenize(paragraph)\n",
    "                # 3. remove stop words\n",
    "\n",
    "                vectors = []\n",
    "                \n",
    "                for token in tokens:\n",
    "                    if not token in stop_words:\n",
    "                        try:\n",
    "                            vector = embedding[token.lower()]\n",
    "                            vectors.append(vector)\n",
    "                        except KeyError:\n",
    "                            continue\n",
    "                            \n",
    "                x_all.append(vectors)\n",
    "                y_all.append(label)\n",
    "                \n",
    "    return x_all, y_all"
   ]
  },
  {
   "cell_type": "code",
   "execution_count": 7,
   "metadata": {},
   "outputs": [],
   "source": [
    "def extract_text_from_reviews(path_to_file):\n",
    "    reviews = []\n",
    "\n",
    "    root = etree.parse(path_to_file)\n",
    "\n",
    "    for review_tag in root.findall('review'):\n",
    "        text = review_tag.find('review_text')\n",
    "\n",
    "        reviews.append(text.text)\n",
    "    \n",
    "    return reviews\n",
    "        \n",
    "    \n",
    "def embed_text(text_list, embeddings_dict):\n",
    "    x_all = []\n",
    "    for sample_idx, sample in enumerate(text_list):\n",
    "        # 1. remove punctuations\n",
    "        sample = sample.translate(str.maketrans('','',string.punctuation))\n",
    "        sample = sample.replace('\\n', ' ')\n",
    "        \n",
    "        # 2. tokenize\n",
    "        tokens = nltk.word_tokenize(sample)\n",
    "        \n",
    "        # 3. remove stop words\n",
    "        vectors = []\n",
    "        for token in tokens:\n",
    "            if not token in stop_words:\n",
    "                try:\n",
    "                    vector = embeddings_dict[token.lower()]\n",
    "                    vectors.append(vector)\n",
    "                except KeyError:\n",
    "                    continue\n",
    "        if len(vectors) > 0:            \n",
    "            x_all.append(vectors)\n",
    "    return x_all\n"
   ]
  },
  {
   "cell_type": "markdown",
   "metadata": {},
   "source": [
    "Run the functions defined above"
   ]
  },
  {
   "cell_type": "code",
   "execution_count": 8,
   "metadata": {},
   "outputs": [],
   "source": [
    "embeddings_dict = import_pretrained_embeddings('glove.6B.50d.txt')"
   ]
  },
  {
   "cell_type": "code",
   "execution_count": 9,
   "metadata": {},
   "outputs": [],
   "source": [
    "stop_words = set(nltk.corpus.stopwords.words('english'))"
   ]
  },
  {
   "cell_type": "markdown",
   "metadata": {},
   "source": [
    "### IF PART 1:"
   ]
  },
  {
   "cell_type": "code",
   "execution_count": 406,
   "metadata": {},
   "outputs": [
    {
     "name": "stdout",
     "output_type": "stream",
     "text": [
      "class 0 has 6055 samples\n",
      "class 1 has 2548 samples\n",
      "class 2 has 11495 samples\n"
     ]
    }
   ],
   "source": [
    "filepaths_dict = {'0': './a4-data/q1/fd.txt',\n",
    "            '1': './a4-data/q1/acd.txt',\n",
    "            '2': './a4-data/q1/ja.txt'}\n",
    "\n",
    "x, y = import_data(filepaths_dict, embeddings_dict)"
   ]
  },
  {
   "cell_type": "code",
   "execution_count": 407,
   "metadata": {},
   "outputs": [],
   "source": [
    "assert(len(x) == len(y) == 6055+2548+11495)"
   ]
  },
  {
   "cell_type": "markdown",
   "metadata": {},
   "source": [
    "### IF PART 2:"
   ]
  },
  {
   "cell_type": "code",
   "execution_count": 138,
   "metadata": {},
   "outputs": [],
   "source": [
    "filepaths_dict = {'1': './a4-data/q2/positive.review.xml',\n",
    "             '0': './a4-data/q2/negative.review.xml'}\n",
    "\n",
    "x, y = [], []\n",
    "for label, filepath in filepaths_dict.items():\n",
    "    reviews = extract_text_from_reviews(filepath)\n",
    "\n",
    "    embedded_reviews = embed_text(reviews, embeddings_dict)\n",
    "\n",
    "    x.extend(embedded_reviews)\n",
    "    y.extend([int(label)]*len(embedded_reviews))\n",
    "\n",
    "    \n"
   ]
  },
  {
   "cell_type": "code",
   "execution_count": 139,
   "metadata": {},
   "outputs": [],
   "source": [
    "vocab_size = len(embeddings_dict.keys())"
   ]
  },
  {
   "cell_type": "code",
   "execution_count": 140,
   "metadata": {},
   "outputs": [],
   "source": [
    "y = np.array(y)\n",
    "# y = tf.keras.utils.to_categorical(y_arr, num_classes=len(filepaths_dict.keys()))"
   ]
  },
  {
   "cell_type": "code",
   "execution_count": 141,
   "metadata": {},
   "outputs": [],
   "source": [
    "len_sample=500\n",
    "x = tf.keras.preprocessing.sequence.pad_sequences(x, maxlen=len_sample)\n"
   ]
  },
  {
   "cell_type": "code",
   "execution_count": 142,
   "metadata": {},
   "outputs": [
    {
     "name": "stdout",
     "output_type": "stream",
     "text": [
      "The samples are distributed as: 1000\n"
     ]
    }
   ],
   "source": [
    "print(f\"The samples are distributed as: {sum(y==1)}\")"
   ]
  },
  {
   "cell_type": "code",
   "execution_count": 143,
   "metadata": {},
   "outputs": [],
   "source": [
    "# assert(len(x) == len(y) == 2000)"
   ]
  },
  {
   "cell_type": "markdown",
   "metadata": {},
   "source": [
    "### Split into training and testing"
   ]
  },
  {
   "cell_type": "code",
   "execution_count": 144,
   "metadata": {
    "scrolled": true
   },
   "outputs": [],
   "source": [
    "X_train, x, y_train, y = train_test_split(x, y, train_size=1500, random_state=42, stratify=y_arr)"
   ]
  },
  {
   "cell_type": "code",
   "execution_count": 145,
   "metadata": {},
   "outputs": [],
   "source": [
    "X_val, X_test, y_val, y_test = train_test_split(x, y, train_size=400, random_state=28)"
   ]
  },
  {
   "cell_type": "code",
   "execution_count": 146,
   "metadata": {},
   "outputs": [
    {
     "name": "stdout",
     "output_type": "stream",
     "text": [
      "Sizes of sets:\n",
      "X_train: (1500, 500, 50)\n",
      "y_train: (1500,)\n",
      "X_val: (400, 500, 50)\n",
      "y_val: (400,)\n",
      "X_test (99, 500, 50)\n",
      "y_test (99,)\n"
     ]
    }
   ],
   "source": [
    "print(\"Sizes of sets:\")\n",
    "print(\"X_train:\", X_train.shape)\n",
    "print(\"y_train:\", y_train.shape)\n",
    "print(\"X_val:\", X_val.shape)\n",
    "print(\"y_val:\", y_val.shape)\n",
    "print(\"X_test\", X_test.shape)\n",
    "print(\"y_test\", y_test.shape)"
   ]
  },
  {
   "cell_type": "markdown",
   "metadata": {},
   "source": [
    "There is an obscure bug with the Tensorflow + CuDNN install for GPUs that occurs when there is a remainder when creating batches of data. To avoid this error, I adjusted the dataset lengths to be exact multiples of the batchsize."
   ]
  },
  {
   "cell_type": "markdown",
   "metadata": {},
   "source": [
    "## (b,c) Build and train your models"
   ]
  },
  {
   "cell_type": "code",
   "execution_count": 147,
   "metadata": {},
   "outputs": [],
   "source": [
    "early_stopping = tf.keras.callbacks.EarlyStopping(\n",
    "        monitor='val_loss', min_delta=0.001, patience=10, verbose=1, \n",
    "        restore_best_weights=True\n",
    "        )\n",
    "# checkpoint = tf.keras.callbacks.ModelCheckpoint(\n",
    "#         filepath=checkpoint_filepath, \n",
    "#         )\n",
    "\n"
   ]
  },
  {
   "cell_type": "code",
   "execution_count": 148,
   "metadata": {},
   "outputs": [],
   "source": [
    "# class_weights = {0: 1.106, 1:1.8, 2:0.5828}"
   ]
  },
  {
   "cell_type": "markdown",
   "metadata": {},
   "source": [
    "### LSTM using only last hidden state"
   ]
  },
  {
   "cell_type": "code",
   "execution_count": 154,
   "metadata": {
    "scrolled": true
   },
   "outputs": [
    {
     "name": "stdout",
     "output_type": "stream",
     "text": [
      "Model: \"lstm1-5\"\n",
      "_________________________________________________________________\n",
      "Layer (type)                 Output Shape              Param #   \n",
      "=================================================================\n",
      "lstm_11 (LSTM)               (50, 20)                  5680      \n",
      "_________________________________________________________________\n",
      "dense_48 (Dense)             (50, 4)                   84        \n",
      "_________________________________________________________________\n",
      "dropout_25 (Dropout)         (50, 4)                   0         \n",
      "_________________________________________________________________\n",
      "dense_49 (Dense)             (50, 1)                   5         \n",
      "=================================================================\n",
      "Total params: 5,769\n",
      "Trainable params: 5,769\n",
      "Non-trainable params: 0\n",
      "_________________________________________________________________\n",
      "None\n"
     ]
    }
   ],
   "source": [
    "# define model\n",
    "last_hs_model = tf.keras.Sequential(name=\"lstm1-5\")\n",
    "# last_hs_model.add(tf.keras.layers.Embedding(vocab_size, 50, input_length=500))\n",
    "# model.add(tf.keras.layers.LSTM(100, return_sequences=True))\n",
    "last_hs_model.add(tf.keras.layers.LSTM(20, batch_input_shape=(50,len_sample,50)))\n",
    "# last_hs_model.add(tf.keras.layers.Dropout(0.4))\n",
    "last_hs_model.add(tf.keras.layers.Dense(4, activation='relu'))\n",
    "last_hs_model.add(tf.keras.layers.Dropout(0.4))\n",
    "\n",
    "if len(filepaths_dict.keys()) == 2:\n",
    "    last_hs_model.add(tf.keras.layers.Dense(1, activation='sigmoid'))\n",
    "else:\n",
    "    last_hs_model.add(tf.keras.layers.Dense(3, activation='softmax'))\n",
    "\n",
    "print(last_hs_model.summary())"
   ]
  },
  {
   "cell_type": "code",
   "execution_count": 155,
   "metadata": {},
   "outputs": [],
   "source": [
    "# if part 1:\n",
    "# last_hs_model.compile(\n",
    "#             optimizer=tf.keras.optimizers.Adam(),\n",
    "#             loss='categorical_crossentropy', metrics=['accuracy'])\n",
    "# if part 2:\n",
    "last_hs_model.compile(\n",
    "            optimizer=tf.keras.optimizers.Adam(),\n",
    "            loss='binary_crossentropy', metrics=['accuracy'])"
   ]
  },
  {
   "cell_type": "code",
   "execution_count": 156,
   "metadata": {},
   "outputs": [
    {
     "name": "stdout",
     "output_type": "stream",
     "text": [
      "Epoch 1/100\n",
      "30/30 [==============================] - 4s 98ms/step - loss: 0.7034 - accuracy: 0.4968 - val_loss: 0.6890 - val_accuracy: 0.5550\n",
      "Epoch 2/100\n",
      "30/30 [==============================] - 3s 90ms/step - loss: 0.6901 - accuracy: 0.5304 - val_loss: 0.6877 - val_accuracy: 0.5550\n",
      "Epoch 3/100\n",
      "30/30 [==============================] - 3s 90ms/step - loss: 0.6783 - accuracy: 0.5521 - val_loss: 0.6897 - val_accuracy: 0.5275\n",
      "Epoch 4/100\n",
      "30/30 [==============================] - 3s 90ms/step - loss: 0.6679 - accuracy: 0.5731 - val_loss: 0.6699 - val_accuracy: 0.5825\n",
      "Epoch 5/100\n",
      "30/30 [==============================] - 3s 89ms/step - loss: 0.6479 - accuracy: 0.6157 - val_loss: 0.6546 - val_accuracy: 0.6100\n",
      "Epoch 6/100\n",
      "30/30 [==============================] - 3s 90ms/step - loss: 0.6289 - accuracy: 0.6336 - val_loss: 0.6470 - val_accuracy: 0.6350\n",
      "Epoch 7/100\n",
      "30/30 [==============================] - 3s 90ms/step - loss: 0.6163 - accuracy: 0.6504 - val_loss: 0.6429 - val_accuracy: 0.6400\n",
      "Epoch 8/100\n",
      "30/30 [==============================] - 3s 89ms/step - loss: 0.6079 - accuracy: 0.6711 - val_loss: 0.6498 - val_accuracy: 0.6175\n",
      "Epoch 9/100\n",
      "30/30 [==============================] - 3s 89ms/step - loss: 0.6075 - accuracy: 0.6852 - val_loss: 0.6393 - val_accuracy: 0.6375\n",
      "Epoch 10/100\n",
      "30/30 [==============================] - 3s 88ms/step - loss: 0.5963 - accuracy: 0.6813 - val_loss: 0.6354 - val_accuracy: 0.6450\n",
      "Epoch 11/100\n",
      "30/30 [==============================] - 3s 88ms/step - loss: 0.5953 - accuracy: 0.7041 - val_loss: 0.6365 - val_accuracy: 0.6325\n",
      "Epoch 12/100\n",
      "30/30 [==============================] - 3s 84ms/step - loss: 0.5874 - accuracy: 0.7142 - val_loss: 0.6316 - val_accuracy: 0.6500\n",
      "Epoch 13/100\n",
      "30/30 [==============================] - 2s 83ms/step - loss: 0.5822 - accuracy: 0.7070 - val_loss: 0.6218 - val_accuracy: 0.6775\n",
      "Epoch 14/100\n",
      "30/30 [==============================] - 2s 83ms/step - loss: 0.5793 - accuracy: 0.7205 - val_loss: 0.6315 - val_accuracy: 0.6350\n",
      "Epoch 15/100\n",
      "30/30 [==============================] - 3s 84ms/step - loss: 0.5680 - accuracy: 0.7259 - val_loss: 0.6248 - val_accuracy: 0.6650\n",
      "Epoch 16/100\n",
      "30/30 [==============================] - 3s 84ms/step - loss: 0.5770 - accuracy: 0.7159 - val_loss: 0.6216 - val_accuracy: 0.6675\n",
      "Epoch 17/100\n",
      "30/30 [==============================] - 3s 84ms/step - loss: 0.5467 - accuracy: 0.7597 - val_loss: 0.6487 - val_accuracy: 0.6025\n",
      "Epoch 18/100\n",
      "30/30 [==============================] - 3s 84ms/step - loss: 0.5770 - accuracy: 0.7189 - val_loss: 0.6226 - val_accuracy: 0.6675\n",
      "Epoch 19/100\n",
      "30/30 [==============================] - 3s 85ms/step - loss: 0.5501 - accuracy: 0.7484 - val_loss: 0.6213 - val_accuracy: 0.6700\n",
      "Epoch 20/100\n",
      "30/30 [==============================] - 3s 84ms/step - loss: 0.5450 - accuracy: 0.7518 - val_loss: 0.6228 - val_accuracy: 0.6575\n",
      "Epoch 21/100\n",
      "30/30 [==============================] - 3s 85ms/step - loss: 0.5455 - accuracy: 0.7414 - val_loss: 0.6218 - val_accuracy: 0.6575\n",
      "Epoch 22/100\n",
      "30/30 [==============================] - 3s 85ms/step - loss: 0.5594 - accuracy: 0.7294 - val_loss: 0.6320 - val_accuracy: 0.6650\n",
      "Epoch 23/100\n",
      "30/30 [==============================] - 3s 85ms/step - loss: 0.5408 - accuracy: 0.7541 - val_loss: 0.6247 - val_accuracy: 0.6675\n",
      "Restoring model weights from the end of the best epoch.\n",
      "Epoch 00023: early stopping\n"
     ]
    }
   ],
   "source": [
    "last_hs_history = last_hs_model.fit(x=X_train, y=y_train, validation_data=(X_val, y_val), \n",
    "                                    batch_size=50, epochs=100, callbacks=[early_stopping]\n",
    "#                                    class_weight=class_weights\n",
    "                                   )"
   ]
  },
  {
   "cell_type": "code",
   "execution_count": 566,
   "metadata": {},
   "outputs": [
    {
     "name": "stderr",
     "output_type": "stream",
     "text": [
      "WARNING:absl:Found untraced functions such as lstm_cell_42_layer_call_and_return_conditional_losses, lstm_cell_42_layer_call_fn, lstm_cell_42_layer_call_fn, lstm_cell_42_layer_call_and_return_conditional_losses, lstm_cell_42_layer_call_and_return_conditional_losses while saving (showing 5 of 5). These functions will not be directly callable after loading.\n",
      "WARNING:absl:Found untraced functions such as lstm_cell_42_layer_call_and_return_conditional_losses, lstm_cell_42_layer_call_fn, lstm_cell_42_layer_call_fn, lstm_cell_42_layer_call_and_return_conditional_losses, lstm_cell_42_layer_call_and_return_conditional_losses while saving (showing 5 of 5). These functions will not be directly callable after loading.\n"
     ]
    },
    {
     "name": "stdout",
     "output_type": "stream",
     "text": [
      "INFO:tensorflow:Assets written to: models/lstm1-4/assets\n"
     ]
    },
    {
     "name": "stderr",
     "output_type": "stream",
     "text": [
      "INFO:tensorflow:Assets written to: models/lstm1-4/assets\n"
     ]
    }
   ],
   "source": [
    "last_hs_model.save(str(\"models/\" + last_hs_model.name))"
   ]
  },
  {
   "cell_type": "markdown",
   "metadata": {},
   "source": [
    "### LSTM using the element wise average of all the hidden states"
   ]
  },
  {
   "cell_type": "code",
   "execution_count": 162,
   "metadata": {},
   "outputs": [
    {
     "name": "stdout",
     "output_type": "stream",
     "text": [
      "Model: \"lstm2.4\"\n",
      "_________________________________________________________________\n",
      "Layer (type)                 Output Shape              Param #   \n",
      "=================================================================\n",
      "lstm_13 (LSTM)               (50, 500, 100)            60400     \n",
      "_________________________________________________________________\n",
      "global_average_pooling1d_1 ( (50, 100)                 0         \n",
      "_________________________________________________________________\n",
      "dense_52 (Dense)             (50, 64)                  6464      \n",
      "_________________________________________________________________\n",
      "dropout_27 (Dropout)         (50, 64)                  0         \n",
      "=================================================================\n",
      "Total params: 66,864\n",
      "Trainable params: 66,864\n",
      "Non-trainable params: 0\n",
      "_________________________________________________________________\n",
      "None\n"
     ]
    }
   ],
   "source": [
    "# define model\n",
    "all_hs_model = tf.keras.Sequential(name=\"lstm2.4\")\n",
    "# all_hs_model.add(tf.keras.layers.Embedding(vocab_size, 50))\n",
    "all_hs_model.add(tf.keras.layers.LSTM(100, return_sequences=True, batch_input_shape=(50,len_sample,50)))\n",
    "all_hs_model.add(tf.keras.layers.GlobalAveragePooling1D())\n",
    "all_hs_model.add(tf.keras.layers.Dense(64, activation='relu'))\n",
    "all_hs_model.add(tf.keras.layers.Dropout(0.4))\n",
    "# all_hs_model.add(tf.keras.layers.Dense(16, activation='relu'))\n",
    "# all_hs_model.add(tf.keras.layers.Dropout(0.2))\n",
    "if len(filepaths_dict.keys()) == 2:\n",
    "    last_hs_model.add(tf.keras.layers.Dense(1, activation='sigmoid'))\n",
    "else:\n",
    "    last_hs_model.add(tf.keras.layers.Dense(3, activation='softmax'))\n",
    "print(all_hs_model.summary())"
   ]
  },
  {
   "cell_type": "code",
   "execution_count": 163,
   "metadata": {},
   "outputs": [],
   "source": [
    "# if part 1:\n",
    "# all_hs_model.compile(\n",
    "#             optimizer=tf.keras.optimizers.Adam(),\n",
    "#             loss='categorical_crossentropy', metrics=['accuracy'])\n",
    "# if part 2:\n",
    "all_hs_model.compile(\n",
    "            optimizer=tf.keras.optimizers.Adam(),\n",
    "            loss='binary_crossentropy', metrics=['accuracy'])"
   ]
  },
  {
   "cell_type": "code",
   "execution_count": 164,
   "metadata": {
    "collapsed": true
   },
   "outputs": [
    {
     "name": "stdout",
     "output_type": "stream",
     "text": [
      "Epoch 1/100\n",
      "30/30 [==============================] - 7s 212ms/step - loss: 5.2152 - accuracy: 0.0000e+00 - val_loss: 2.5129 - val_accuracy: 0.0000e+00\n",
      "Epoch 2/100\n",
      "30/30 [==============================] - 6s 205ms/step - loss: 4.4490 - accuracy: 0.0000e+00 - val_loss: 2.1098 - val_accuracy: 0.0000e+00\n",
      "Epoch 3/100\n",
      "10/30 [=========>....................] - ETA: 3s - loss: 4.3603 - accuracy: 0.0000e+00"
     ]
    },
    {
     "ename": "KeyboardInterrupt",
     "evalue": "",
     "output_type": "error",
     "traceback": [
      "\u001b[0;31m---------------------------------------------------------------------------\u001b[0m",
      "\u001b[0;31mKeyboardInterrupt\u001b[0m                         Traceback (most recent call last)",
      "\u001b[0;32m<ipython-input-164-55e02dffce4a>\u001b[0m in \u001b[0;36m<module>\u001b[0;34m\u001b[0m\n\u001b[1;32m      1\u001b[0m all_hs_history = all_hs_model.fit(x=X_train, y=y_train, validation_data=(X_val, y_val), \n\u001b[0;32m----> 2\u001b[0;31m                                   \u001b[0mbatch_size\u001b[0m\u001b[0;34m=\u001b[0m\u001b[0;36m50\u001b[0m\u001b[0;34m,\u001b[0m \u001b[0mepochs\u001b[0m\u001b[0;34m=\u001b[0m\u001b[0;36m100\u001b[0m\u001b[0;34m,\u001b[0m \u001b[0mcallbacks\u001b[0m\u001b[0;34m=\u001b[0m\u001b[0;34m[\u001b[0m\u001b[0mearly_stopping\u001b[0m\u001b[0;34m]\u001b[0m\u001b[0;34m,\u001b[0m\u001b[0;34m\u001b[0m\u001b[0;34m\u001b[0m\u001b[0m\n\u001b[0m\u001b[1;32m      3\u001b[0m \u001b[0;31m#                                  class_weight=class_weights\u001b[0m\u001b[0;34m\u001b[0m\u001b[0;34m\u001b[0m\u001b[0;34m\u001b[0m\u001b[0m\n\u001b[1;32m      4\u001b[0m                                  )\n",
      "\u001b[0;32m/usr/local/lib/python3.6/dist-packages/tensorflow/python/keras/engine/training.py\u001b[0m in \u001b[0;36mfit\u001b[0;34m(self, x, y, batch_size, epochs, verbose, callbacks, validation_split, validation_data, shuffle, class_weight, sample_weight, initial_epoch, steps_per_epoch, validation_steps, validation_batch_size, validation_freq, max_queue_size, workers, use_multiprocessing)\u001b[0m\n\u001b[1;32m   1098\u001b[0m                 _r=1):\n\u001b[1;32m   1099\u001b[0m               \u001b[0mcallbacks\u001b[0m\u001b[0;34m.\u001b[0m\u001b[0mon_train_batch_begin\u001b[0m\u001b[0;34m(\u001b[0m\u001b[0mstep\u001b[0m\u001b[0;34m)\u001b[0m\u001b[0;34m\u001b[0m\u001b[0;34m\u001b[0m\u001b[0m\n\u001b[0;32m-> 1100\u001b[0;31m               \u001b[0mtmp_logs\u001b[0m \u001b[0;34m=\u001b[0m \u001b[0mself\u001b[0m\u001b[0;34m.\u001b[0m\u001b[0mtrain_function\u001b[0m\u001b[0;34m(\u001b[0m\u001b[0miterator\u001b[0m\u001b[0;34m)\u001b[0m\u001b[0;34m\u001b[0m\u001b[0;34m\u001b[0m\u001b[0m\n\u001b[0m\u001b[1;32m   1101\u001b[0m               \u001b[0;32mif\u001b[0m \u001b[0mdata_handler\u001b[0m\u001b[0;34m.\u001b[0m\u001b[0mshould_sync\u001b[0m\u001b[0;34m:\u001b[0m\u001b[0;34m\u001b[0m\u001b[0;34m\u001b[0m\u001b[0m\n\u001b[1;32m   1102\u001b[0m                 \u001b[0mcontext\u001b[0m\u001b[0;34m.\u001b[0m\u001b[0masync_wait\u001b[0m\u001b[0;34m(\u001b[0m\u001b[0;34m)\u001b[0m\u001b[0;34m\u001b[0m\u001b[0;34m\u001b[0m\u001b[0m\n",
      "\u001b[0;32m/usr/local/lib/python3.6/dist-packages/tensorflow/python/eager/def_function.py\u001b[0m in \u001b[0;36m__call__\u001b[0;34m(self, *args, **kwds)\u001b[0m\n\u001b[1;32m    826\u001b[0m     \u001b[0mtracing_count\u001b[0m \u001b[0;34m=\u001b[0m \u001b[0mself\u001b[0m\u001b[0;34m.\u001b[0m\u001b[0mexperimental_get_tracing_count\u001b[0m\u001b[0;34m(\u001b[0m\u001b[0;34m)\u001b[0m\u001b[0;34m\u001b[0m\u001b[0;34m\u001b[0m\u001b[0m\n\u001b[1;32m    827\u001b[0m     \u001b[0;32mwith\u001b[0m \u001b[0mtrace\u001b[0m\u001b[0;34m.\u001b[0m\u001b[0mTrace\u001b[0m\u001b[0;34m(\u001b[0m\u001b[0mself\u001b[0m\u001b[0;34m.\u001b[0m\u001b[0m_name\u001b[0m\u001b[0;34m)\u001b[0m \u001b[0;32mas\u001b[0m \u001b[0mtm\u001b[0m\u001b[0;34m:\u001b[0m\u001b[0;34m\u001b[0m\u001b[0;34m\u001b[0m\u001b[0m\n\u001b[0;32m--> 828\u001b[0;31m       \u001b[0mresult\u001b[0m \u001b[0;34m=\u001b[0m \u001b[0mself\u001b[0m\u001b[0;34m.\u001b[0m\u001b[0m_call\u001b[0m\u001b[0;34m(\u001b[0m\u001b[0;34m*\u001b[0m\u001b[0margs\u001b[0m\u001b[0;34m,\u001b[0m \u001b[0;34m**\u001b[0m\u001b[0mkwds\u001b[0m\u001b[0;34m)\u001b[0m\u001b[0;34m\u001b[0m\u001b[0;34m\u001b[0m\u001b[0m\n\u001b[0m\u001b[1;32m    829\u001b[0m       \u001b[0mcompiler\u001b[0m \u001b[0;34m=\u001b[0m \u001b[0;34m\"xla\"\u001b[0m \u001b[0;32mif\u001b[0m \u001b[0mself\u001b[0m\u001b[0;34m.\u001b[0m\u001b[0m_experimental_compile\u001b[0m \u001b[0;32melse\u001b[0m \u001b[0;34m\"nonXla\"\u001b[0m\u001b[0;34m\u001b[0m\u001b[0;34m\u001b[0m\u001b[0m\n\u001b[1;32m    830\u001b[0m       \u001b[0mnew_tracing_count\u001b[0m \u001b[0;34m=\u001b[0m \u001b[0mself\u001b[0m\u001b[0;34m.\u001b[0m\u001b[0mexperimental_get_tracing_count\u001b[0m\u001b[0;34m(\u001b[0m\u001b[0;34m)\u001b[0m\u001b[0;34m\u001b[0m\u001b[0;34m\u001b[0m\u001b[0m\n",
      "\u001b[0;32m/usr/local/lib/python3.6/dist-packages/tensorflow/python/eager/def_function.py\u001b[0m in \u001b[0;36m_call\u001b[0;34m(self, *args, **kwds)\u001b[0m\n\u001b[1;32m    853\u001b[0m       \u001b[0;31m# In this case we have created variables on the first call, so we run the\u001b[0m\u001b[0;34m\u001b[0m\u001b[0;34m\u001b[0m\u001b[0;34m\u001b[0m\u001b[0m\n\u001b[1;32m    854\u001b[0m       \u001b[0;31m# defunned version which is guaranteed to never create variables.\u001b[0m\u001b[0;34m\u001b[0m\u001b[0;34m\u001b[0m\u001b[0;34m\u001b[0m\u001b[0m\n\u001b[0;32m--> 855\u001b[0;31m       \u001b[0;32mreturn\u001b[0m \u001b[0mself\u001b[0m\u001b[0;34m.\u001b[0m\u001b[0m_stateless_fn\u001b[0m\u001b[0;34m(\u001b[0m\u001b[0;34m*\u001b[0m\u001b[0margs\u001b[0m\u001b[0;34m,\u001b[0m \u001b[0;34m**\u001b[0m\u001b[0mkwds\u001b[0m\u001b[0;34m)\u001b[0m  \u001b[0;31m# pylint: disable=not-callable\u001b[0m\u001b[0;34m\u001b[0m\u001b[0;34m\u001b[0m\u001b[0m\n\u001b[0m\u001b[1;32m    856\u001b[0m     \u001b[0;32melif\u001b[0m \u001b[0mself\u001b[0m\u001b[0;34m.\u001b[0m\u001b[0m_stateful_fn\u001b[0m \u001b[0;32mis\u001b[0m \u001b[0;32mnot\u001b[0m \u001b[0;32mNone\u001b[0m\u001b[0;34m:\u001b[0m\u001b[0;34m\u001b[0m\u001b[0;34m\u001b[0m\u001b[0m\n\u001b[1;32m    857\u001b[0m       \u001b[0;31m# Release the lock early so that multiple threads can perform the call\u001b[0m\u001b[0;34m\u001b[0m\u001b[0;34m\u001b[0m\u001b[0;34m\u001b[0m\u001b[0m\n",
      "\u001b[0;32m/usr/local/lib/python3.6/dist-packages/tensorflow/python/eager/function.py\u001b[0m in \u001b[0;36m__call__\u001b[0;34m(self, *args, **kwargs)\u001b[0m\n\u001b[1;32m   2941\u001b[0m        filtered_flat_args) = self._maybe_define_function(args, kwargs)\n\u001b[1;32m   2942\u001b[0m     return graph_function._call_flat(\n\u001b[0;32m-> 2943\u001b[0;31m         filtered_flat_args, captured_inputs=graph_function.captured_inputs)  # pylint: disable=protected-access\n\u001b[0m\u001b[1;32m   2944\u001b[0m \u001b[0;34m\u001b[0m\u001b[0m\n\u001b[1;32m   2945\u001b[0m   \u001b[0;34m@\u001b[0m\u001b[0mproperty\u001b[0m\u001b[0;34m\u001b[0m\u001b[0;34m\u001b[0m\u001b[0m\n",
      "\u001b[0;32m/usr/local/lib/python3.6/dist-packages/tensorflow/python/eager/function.py\u001b[0m in \u001b[0;36m_call_flat\u001b[0;34m(self, args, captured_inputs, cancellation_manager)\u001b[0m\n\u001b[1;32m   1917\u001b[0m       \u001b[0;31m# No tape is watching; skip to running the function.\u001b[0m\u001b[0;34m\u001b[0m\u001b[0;34m\u001b[0m\u001b[0;34m\u001b[0m\u001b[0m\n\u001b[1;32m   1918\u001b[0m       return self._build_call_outputs(self._inference_function.call(\n\u001b[0;32m-> 1919\u001b[0;31m           ctx, args, cancellation_manager=cancellation_manager))\n\u001b[0m\u001b[1;32m   1920\u001b[0m     forward_backward = self._select_forward_and_backward_functions(\n\u001b[1;32m   1921\u001b[0m         \u001b[0margs\u001b[0m\u001b[0;34m,\u001b[0m\u001b[0;34m\u001b[0m\u001b[0;34m\u001b[0m\u001b[0m\n",
      "\u001b[0;32m/usr/local/lib/python3.6/dist-packages/tensorflow/python/eager/function.py\u001b[0m in \u001b[0;36mcall\u001b[0;34m(self, ctx, args, cancellation_manager)\u001b[0m\n\u001b[1;32m    558\u001b[0m               \u001b[0minputs\u001b[0m\u001b[0;34m=\u001b[0m\u001b[0margs\u001b[0m\u001b[0;34m,\u001b[0m\u001b[0;34m\u001b[0m\u001b[0;34m\u001b[0m\u001b[0m\n\u001b[1;32m    559\u001b[0m               \u001b[0mattrs\u001b[0m\u001b[0;34m=\u001b[0m\u001b[0mattrs\u001b[0m\u001b[0;34m,\u001b[0m\u001b[0;34m\u001b[0m\u001b[0;34m\u001b[0m\u001b[0m\n\u001b[0;32m--> 560\u001b[0;31m               ctx=ctx)\n\u001b[0m\u001b[1;32m    561\u001b[0m         \u001b[0;32melse\u001b[0m\u001b[0;34m:\u001b[0m\u001b[0;34m\u001b[0m\u001b[0;34m\u001b[0m\u001b[0m\n\u001b[1;32m    562\u001b[0m           outputs = execute.execute_with_cancellation(\n",
      "\u001b[0;32m/usr/local/lib/python3.6/dist-packages/tensorflow/python/eager/execute.py\u001b[0m in \u001b[0;36mquick_execute\u001b[0;34m(op_name, num_outputs, inputs, attrs, ctx, name)\u001b[0m\n\u001b[1;32m     58\u001b[0m     \u001b[0mctx\u001b[0m\u001b[0;34m.\u001b[0m\u001b[0mensure_initialized\u001b[0m\u001b[0;34m(\u001b[0m\u001b[0;34m)\u001b[0m\u001b[0;34m\u001b[0m\u001b[0;34m\u001b[0m\u001b[0m\n\u001b[1;32m     59\u001b[0m     tensors = pywrap_tfe.TFE_Py_Execute(ctx._handle, device_name, op_name,\n\u001b[0;32m---> 60\u001b[0;31m                                         inputs, attrs, num_outputs)\n\u001b[0m\u001b[1;32m     61\u001b[0m   \u001b[0;32mexcept\u001b[0m \u001b[0mcore\u001b[0m\u001b[0;34m.\u001b[0m\u001b[0m_NotOkStatusException\u001b[0m \u001b[0;32mas\u001b[0m \u001b[0me\u001b[0m\u001b[0;34m:\u001b[0m\u001b[0;34m\u001b[0m\u001b[0;34m\u001b[0m\u001b[0m\n\u001b[1;32m     62\u001b[0m     \u001b[0;32mif\u001b[0m \u001b[0mname\u001b[0m \u001b[0;32mis\u001b[0m \u001b[0;32mnot\u001b[0m \u001b[0;32mNone\u001b[0m\u001b[0;34m:\u001b[0m\u001b[0;34m\u001b[0m\u001b[0;34m\u001b[0m\u001b[0m\n",
      "\u001b[0;31mKeyboardInterrupt\u001b[0m: "
     ]
    }
   ],
   "source": [
    "all_hs_history = all_hs_model.fit(x=X_train, y=y_train, validation_data=(X_val, y_val), \n",
    "                                  batch_size=50, epochs=100, callbacks=[early_stopping],\n",
    "#                                  class_weight=class_weights\n",
    "                                 )"
   ]
  },
  {
   "cell_type": "code",
   "execution_count": 553,
   "metadata": {},
   "outputs": [
    {
     "name": "stderr",
     "output_type": "stream",
     "text": [
      "WARNING:absl:Found untraced functions such as lstm_cell_57_layer_call_and_return_conditional_losses, lstm_cell_57_layer_call_fn, lstm_cell_57_layer_call_fn, lstm_cell_57_layer_call_and_return_conditional_losses, lstm_cell_57_layer_call_and_return_conditional_losses while saving (showing 5 of 5). These functions will not be directly callable after loading.\n",
      "WARNING:absl:Found untraced functions such as lstm_cell_57_layer_call_and_return_conditional_losses, lstm_cell_57_layer_call_fn, lstm_cell_57_layer_call_fn, lstm_cell_57_layer_call_and_return_conditional_losses, lstm_cell_57_layer_call_and_return_conditional_losses while saving (showing 5 of 5). These functions will not be directly callable after loading.\n"
     ]
    },
    {
     "name": "stdout",
     "output_type": "stream",
     "text": [
      "INFO:tensorflow:Assets written to: models/lstm2.4/assets\n"
     ]
    },
    {
     "name": "stderr",
     "output_type": "stream",
     "text": [
      "INFO:tensorflow:Assets written to: models/lstm2.4/assets\n"
     ]
    }
   ],
   "source": [
    "all_hs_model.save(str(\"models/\" + all_hs_model.name))"
   ]
  },
  {
   "cell_type": "markdown",
   "metadata": {},
   "source": [
    "### CNN model"
   ]
  },
  {
   "cell_type": "code",
   "execution_count": 55,
   "metadata": {},
   "outputs": [
    {
     "name": "stdout",
     "output_type": "stream",
     "text": [
      "Model: \"cnn_6\"\n",
      "_________________________________________________________________\n",
      "Layer (type)                 Output Shape              Param #   \n",
      "=================================================================\n",
      "conv1d_10 (Conv1D)           (50, 498, 64)             9664      \n",
      "_________________________________________________________________\n",
      "max_pooling1d_10 (MaxPooling (50, 249, 64)             0         \n",
      "_________________________________________________________________\n",
      "flatten_10 (Flatten)         (50, 15936)               0         \n",
      "_________________________________________________________________\n",
      "dense_24 (Dense)             (50, 32)                  509984    \n",
      "_________________________________________________________________\n",
      "dropout_13 (Dropout)         (50, 32)                  0         \n",
      "_________________________________________________________________\n",
      "dense_25 (Dense)             (50, 2)                   66        \n",
      "=================================================================\n",
      "Total params: 519,714\n",
      "Trainable params: 519,714\n",
      "Non-trainable params: 0\n",
      "_________________________________________________________________\n",
      "None\n"
     ]
    }
   ],
   "source": [
    "cnn_model = tf.keras.Sequential(name=\"cnn_6\")\n",
    "cnn_model.add(tf.keras.layers.Conv1D(filters=64, kernel_size=3, activation='relu', batch_input_shape=(50,len_sample,50)))\n",
    "cnn_model.add(tf.keras.layers.MaxPooling1D())\n",
    "cnn_model.add(tf.keras.layers.Flatten())\n",
    "# cnn_model.add(tf.keras.layers.Dropout(0.4))\n",
    "cnn_model.add(tf.keras.layers.Dense(32, activation='relu'))\n",
    "cnn_model.add(tf.keras.layers.Dropout(0.4))\n",
    "# cnn_model.add(tf.keras.layers.Dense(8, activation='relu'))\n",
    "# cnn_model.add(tf.keras.layers.Dropout(0.1))\n",
    "cnn_model.add(tf.keras.layers.Dense(len(filepaths_dict.keys()), activation='softmax'))\n",
    "\n",
    "print(cnn_model.summary())"
   ]
  },
  {
   "cell_type": "code",
   "execution_count": 56,
   "metadata": {},
   "outputs": [],
   "source": [
    "cnn_model.compile(\n",
    "    optimizer=tf.keras.optimizers.Adam(learning_rate=0.0001), \n",
    "    loss='categorical_crossentropy', metrics=['accuracy'])"
   ]
  },
  {
   "cell_type": "code",
   "execution_count": 57,
   "metadata": {},
   "outputs": [
    {
     "name": "stdout",
     "output_type": "stream",
     "text": [
      "Epoch 1/50\n",
      "30/30 [==============================] - 1s 24ms/step - loss: 0.7092 - accuracy: 0.5096 - val_loss: 0.6958 - val_accuracy: 0.5100\n",
      "Epoch 2/50\n",
      "30/30 [==============================] - 1s 21ms/step - loss: 0.6867 - accuracy: 0.5408 - val_loss: 0.6900 - val_accuracy: 0.5350\n",
      "Epoch 3/50\n",
      "30/30 [==============================] - 1s 23ms/step - loss: 0.6856 - accuracy: 0.5721 - val_loss: 0.6930 - val_accuracy: 0.5150\n",
      "Epoch 4/50\n",
      "30/30 [==============================] - 1s 21ms/step - loss: 0.6622 - accuracy: 0.6146 - val_loss: 0.6933 - val_accuracy: 0.5375\n",
      "Epoch 5/50\n",
      "30/30 [==============================] - 1s 21ms/step - loss: 0.6641 - accuracy: 0.6104 - val_loss: 0.7027 - val_accuracy: 0.5225\n",
      "Epoch 6/50\n",
      "30/30 [==============================] - 1s 21ms/step - loss: 0.6511 - accuracy: 0.6329 - val_loss: 0.6956 - val_accuracy: 0.5075\n",
      "Epoch 7/50\n",
      "30/30 [==============================] - 1s 21ms/step - loss: 0.6338 - accuracy: 0.6453 - val_loss: 0.6983 - val_accuracy: 0.5350\n",
      "Epoch 8/50\n",
      "30/30 [==============================] - 1s 21ms/step - loss: 0.6176 - accuracy: 0.6666 - val_loss: 0.6884 - val_accuracy: 0.5500\n",
      "Epoch 9/50\n",
      "30/30 [==============================] - 1s 21ms/step - loss: 0.6167 - accuracy: 0.6873 - val_loss: 0.6786 - val_accuracy: 0.5600\n",
      "Epoch 10/50\n",
      "30/30 [==============================] - 1s 22ms/step - loss: 0.5949 - accuracy: 0.7105 - val_loss: 0.6912 - val_accuracy: 0.5550\n",
      "Epoch 11/50\n",
      "30/30 [==============================] - 1s 21ms/step - loss: 0.5744 - accuracy: 0.7328 - val_loss: 0.6870 - val_accuracy: 0.5550\n",
      "Epoch 12/50\n",
      "30/30 [==============================] - 1s 21ms/step - loss: 0.5625 - accuracy: 0.7468 - val_loss: 0.6749 - val_accuracy: 0.5675\n",
      "Epoch 13/50\n",
      "30/30 [==============================] - 1s 21ms/step - loss: 0.5377 - accuracy: 0.7830 - val_loss: 0.7019 - val_accuracy: 0.5625\n",
      "Epoch 14/50\n",
      "30/30 [==============================] - 1s 23ms/step - loss: 0.5236 - accuracy: 0.7877 - val_loss: 0.6606 - val_accuracy: 0.6075\n",
      "Epoch 15/50\n",
      "30/30 [==============================] - 1s 22ms/step - loss: 0.5229 - accuracy: 0.7761 - val_loss: 0.6642 - val_accuracy: 0.6000\n",
      "Epoch 16/50\n",
      "30/30 [==============================] - 1s 22ms/step - loss: 0.5080 - accuracy: 0.7799 - val_loss: 0.6809 - val_accuracy: 0.5775\n",
      "Epoch 17/50\n",
      "30/30 [==============================] - 1s 21ms/step - loss: 0.4781 - accuracy: 0.8064 - val_loss: 0.6818 - val_accuracy: 0.5850\n",
      "Epoch 18/50\n",
      "30/30 [==============================] - 1s 22ms/step - loss: 0.4560 - accuracy: 0.8384 - val_loss: 0.6605 - val_accuracy: 0.5950\n",
      "Epoch 19/50\n",
      "30/30 [==============================] - 1s 23ms/step - loss: 0.4444 - accuracy: 0.8372 - val_loss: 0.6669 - val_accuracy: 0.5925\n",
      "Epoch 20/50\n",
      "30/30 [==============================] - 1s 22ms/step - loss: 0.4399 - accuracy: 0.8333 - val_loss: 0.6738 - val_accuracy: 0.5950\n",
      "Epoch 21/50\n",
      "30/30 [==============================] - 1s 23ms/step - loss: 0.4285 - accuracy: 0.8361 - val_loss: 0.6474 - val_accuracy: 0.6050\n",
      "Epoch 22/50\n",
      "30/30 [==============================] - 1s 22ms/step - loss: 0.4017 - accuracy: 0.8716 - val_loss: 0.6557 - val_accuracy: 0.6125\n",
      "Epoch 23/50\n",
      "30/30 [==============================] - 1s 23ms/step - loss: 0.3729 - accuracy: 0.8706 - val_loss: 0.6534 - val_accuracy: 0.6275\n",
      "Epoch 24/50\n",
      "30/30 [==============================] - 1s 23ms/step - loss: 0.3828 - accuracy: 0.8668 - val_loss: 0.6453 - val_accuracy: 0.6425\n",
      "Epoch 25/50\n",
      "30/30 [==============================] - 1s 22ms/step - loss: 0.3758 - accuracy: 0.8698 - val_loss: 0.6733 - val_accuracy: 0.6275\n",
      "Epoch 26/50\n",
      "30/30 [==============================] - 1s 22ms/step - loss: 0.3602 - accuracy: 0.8670 - val_loss: 0.6572 - val_accuracy: 0.6100\n",
      "Epoch 27/50\n",
      "30/30 [==============================] - 1s 23ms/step - loss: 0.3370 - accuracy: 0.8930 - val_loss: 0.6592 - val_accuracy: 0.6275\n",
      "Epoch 28/50\n",
      "30/30 [==============================] - 1s 22ms/step - loss: 0.3270 - accuracy: 0.8915 - val_loss: 0.6689 - val_accuracy: 0.6050\n",
      "Epoch 29/50\n",
      "30/30 [==============================] - 1s 23ms/step - loss: 0.3228 - accuracy: 0.9033 - val_loss: 0.6647 - val_accuracy: 0.6225\n",
      "Epoch 30/50\n",
      "30/30 [==============================] - 1s 22ms/step - loss: 0.3142 - accuracy: 0.9024 - val_loss: 0.6556 - val_accuracy: 0.6350\n",
      "Epoch 31/50\n",
      "30/30 [==============================] - 1s 27ms/step - loss: 0.2966 - accuracy: 0.9134 - val_loss: 0.7056 - val_accuracy: 0.6050\n",
      "Epoch 32/50\n",
      "30/30 [==============================] - 1s 22ms/step - loss: 0.2883 - accuracy: 0.9161 - val_loss: 0.6628 - val_accuracy: 0.6325\n",
      "Epoch 33/50\n",
      "30/30 [==============================] - 1s 22ms/step - loss: 0.2750 - accuracy: 0.9222 - val_loss: 0.6845 - val_accuracy: 0.6100\n",
      "Epoch 34/50\n",
      "30/30 [==============================] - 1s 24ms/step - loss: 0.2753 - accuracy: 0.9160 - val_loss: 0.7074 - val_accuracy: 0.6050\n",
      "Restoring model weights from the end of the best epoch.\n",
      "Epoch 00034: early stopping\n"
     ]
    }
   ],
   "source": [
    "cnn_history = cnn_model.fit(x=X_train, y=y_train, validation_data=(X_val, y_val), \n",
    "                            batch_size=50, epochs=50, callbacks=[early_stopping],\n",
    "#                            class_weight=class_weights\n",
    "                           )"
   ]
  },
  {
   "cell_type": "code",
   "execution_count": 58,
   "metadata": {},
   "outputs": [
    {
     "name": "stdout",
     "output_type": "stream",
     "text": [
      "INFO:tensorflow:Assets written to: models/cnn_6/assets\n"
     ]
    }
   ],
   "source": [
    "cnn_model.save(str(\"models/\" + cnn_model.name))"
   ]
  },
  {
   "cell_type": "code",
   "execution_count": 49,
   "metadata": {},
   "outputs": [],
   "source": [
    "def plot_loss(history, title):\n",
    "    plt.plot(history.history['loss'], color='y', label='training loss')\n",
    "    plt.plot(history.history['val_loss'], color='r', label='validation loss')\n",
    "    plt.ylabel('loss')\n",
    "    plt.xlabel('epoch')\n",
    "    plt.title(title)\n",
    "    plt.legend()\n",
    "    plt.show()"
   ]
  },
  {
   "cell_type": "code",
   "execution_count": 50,
   "metadata": {},
   "outputs": [],
   "source": [
    "def plot_accuracy(history, title):\n",
    "    plt.plot(history.history['accuracy'], color='y', label='training accuracy')\n",
    "    plt.plot(history.history['val_accuracy'], color='r', label='validation accuracy')\n",
    "    plt.ylabel('accuracy')\n",
    "    plt.xlabel('epoch')\n",
    "    plt.title(title)\n",
    "    plt.legend()\n",
    "    plt.show()    "
   ]
  },
  {
   "cell_type": "code",
   "execution_count": 51,
   "metadata": {},
   "outputs": [
    {
     "ename": "NameError",
     "evalue": "name 'last_hs_history' is not defined",
     "output_type": "error",
     "traceback": [
      "\u001b[0;31m---------------------------------------------------------------------------\u001b[0m",
      "\u001b[0;31mNameError\u001b[0m                                 Traceback (most recent call last)",
      "\u001b[0;32m<ipython-input-51-47a983feac68>\u001b[0m in \u001b[0;36m<module>\u001b[0;34m\u001b[0m\n\u001b[0;32m----> 1\u001b[0;31m \u001b[0mplot_loss\u001b[0m\u001b[0;34m(\u001b[0m\u001b[0mlast_hs_history\u001b[0m\u001b[0;34m,\u001b[0m \u001b[0;34m'LSTM model using last hidden state to predict'\u001b[0m\u001b[0;34m)\u001b[0m\u001b[0;34m\u001b[0m\u001b[0;34m\u001b[0m\u001b[0m\n\u001b[0m\u001b[1;32m      2\u001b[0m \u001b[0mplot_loss\u001b[0m\u001b[0;34m(\u001b[0m\u001b[0mall_hs_history\u001b[0m\u001b[0;34m,\u001b[0m \u001b[0;34m'LSTM model using average of hidden states'\u001b[0m\u001b[0;34m)\u001b[0m\u001b[0;34m\u001b[0m\u001b[0;34m\u001b[0m\u001b[0m\n\u001b[1;32m      3\u001b[0m \u001b[0mplot_loss\u001b[0m\u001b[0;34m(\u001b[0m\u001b[0mcnn_history\u001b[0m\u001b[0;34m,\u001b[0m \u001b[0;34m'CNN model'\u001b[0m\u001b[0;34m)\u001b[0m\u001b[0;34m\u001b[0m\u001b[0;34m\u001b[0m\u001b[0m\n",
      "\u001b[0;31mNameError\u001b[0m: name 'last_hs_history' is not defined"
     ]
    }
   ],
   "source": [
    "plot_loss(last_hs_history, 'LSTM model using last hidden state to predict')\n",
    "plot_loss(all_hs_history, 'LSTM model using average of hidden states')\n",
    "plot_loss(cnn_history, 'CNN model')"
   ]
  },
  {
   "cell_type": "code",
   "execution_count": 563,
   "metadata": {},
   "outputs": [
    {
     "data": {
      "image/png": "[encoded data removed]",
      "text/plain": [
       "<Figure size 432x288 with 1 Axes>"
      ]
     },
     "metadata": {
      "needs_background": "light"
     },
     "output_type": "display_data"
    },
    {
     "data": {
      "image/png": "[encoded data removed]",
      "text/plain": [
       "<Figure size 432x288 with 1 Axes>"
      ]
     },
     "metadata": {
      "needs_background": "light"
     },
     "output_type": "display_data"
    },
    {
     "ename": "NameError",
     "evalue": "name 'cnn_history' is not defined",
     "output_type": "error",
     "traceback": [
      "\u001b[0;31m---------------------------------------------------------------------------\u001b[0m",
      "\u001b[0;31mNameError\u001b[0m                                 Traceback (most recent call last)",
      "\u001b[0;32m<ipython-input-563-8e98235ebfbf>\u001b[0m in \u001b[0;36m<module>\u001b[0;34m\u001b[0m\n\u001b[1;32m      1\u001b[0m \u001b[0mplot_accuracy\u001b[0m\u001b[0;34m(\u001b[0m\u001b[0mlast_hs_history\u001b[0m\u001b[0;34m,\u001b[0m \u001b[0;34m'LSTM model using last hidden state to predict'\u001b[0m\u001b[0;34m)\u001b[0m\u001b[0;34m\u001b[0m\u001b[0;34m\u001b[0m\u001b[0m\n\u001b[1;32m      2\u001b[0m \u001b[0mplot_accuracy\u001b[0m\u001b[0;34m(\u001b[0m\u001b[0mall_hs_history\u001b[0m\u001b[0;34m,\u001b[0m \u001b[0;34m'LSTM model using average of hidden states'\u001b[0m\u001b[0;34m)\u001b[0m\u001b[0;34m\u001b[0m\u001b[0;34m\u001b[0m\u001b[0m\n\u001b[0;32m----> 3\u001b[0;31m \u001b[0mplot_accuracy\u001b[0m\u001b[0;34m(\u001b[0m\u001b[0mcnn_history\u001b[0m\u001b[0;34m,\u001b[0m \u001b[0;34m'CNN model'\u001b[0m\u001b[0;34m)\u001b[0m\u001b[0;34m\u001b[0m\u001b[0;34m\u001b[0m\u001b[0m\n\u001b[0m",
      "\u001b[0;31mNameError\u001b[0m: name 'cnn_history' is not defined"
     ]
    }
   ],
   "source": [
    "plot_accuracy(last_hs_history, 'LSTM model using last hidden state to predict')\n",
    "plot_accuracy(all_hs_history, 'LSTM model using average of hidden states')\n",
    "plot_accuracy(cnn_history, 'CNN model')"
   ]
  },
  {
   "cell_type": "markdown",
   "metadata": {},
   "source": [
    "## (d) Report Recall, Precision, F1 \n",
    "for each class on the test data"
   ]
  },
  {
   "cell_type": "markdown",
   "metadata": {},
   "source": [
    "### Load model and predict on test data"
   ]
  },
  {
   "cell_type": "code",
   "execution_count": 59,
   "metadata": {},
   "outputs": [],
   "source": [
    "loaded_model = tf.keras.models.load_model(\n",
    "    \"models/cnn_6\", custom_objects=None, compile=True, options=None\n",
    ")\n"
   ]
  },
  {
   "cell_type": "code",
   "execution_count": 60,
   "metadata": {},
   "outputs": [
    {
     "name": "stdout",
     "output_type": "stream",
     "text": [
      "WARNING:tensorflow:Model was constructed with shape (50, 500, 50) for input KerasTensor(type_spec=TensorSpec(shape=(50, 500, 50), dtype=tf.float32, name='conv1d_10_input'), name='conv1d_10_input', description=\"created by layer 'conv1d_10_input'\"), but it was called on an input with incompatible shape (1, 500, 50).\n",
      "99/99 [==============================] - 0s 704us/step\n"
     ]
    }
   ],
   "source": [
    "y_pred = loaded_model.predict(X_test, batch_size=1, verbose=1)"
   ]
  },
  {
   "cell_type": "code",
   "execution_count": 61,
   "metadata": {},
   "outputs": [],
   "source": [
    "y_pred = np.argmax(y_pred, axis=1)"
   ]
  },
  {
   "cell_type": "code",
   "execution_count": 62,
   "metadata": {},
   "outputs": [
    {
     "name": "stdout",
     "output_type": "stream",
     "text": [
      "(99, 2)\n",
      "(99,)\n"
     ]
    }
   ],
   "source": [
    "print(y_test.shape)\n",
    "print(y_pred.shape)"
   ]
  },
  {
   "cell_type": "code",
   "execution_count": 63,
   "metadata": {},
   "outputs": [],
   "source": [
    "y_test = np.argmax(y_test, axis=1)"
   ]
  },
  {
   "cell_type": "code",
   "execution_count": 64,
   "metadata": {},
   "outputs": [
    {
     "name": "stdout",
     "output_type": "stream",
     "text": [
      "              precision    recall  f1-score   support\n",
      "\n",
      "           0       0.86      0.45      0.60        55\n",
      "           1       0.57      0.91      0.70        44\n",
      "\n",
      "    accuracy                           0.66        99\n",
      "   macro avg       0.72      0.68      0.65        99\n",
      "weighted avg       0.73      0.66      0.64        99\n",
      "\n"
     ]
    }
   ],
   "source": [
    "print(classification_report(y_test, y_pred))"
   ]
  },
  {
   "cell_type": "code",
   "execution_count": null,
   "metadata": {},
   "outputs": [],
   "source": []
  },
  {
   "cell_type": "code",
   "execution_count": null,
   "metadata": {},
   "outputs": [],
   "source": []
  }
 ],
 "metadata": {
  "kernelspec": {
   "display_name": "Python 3",
   "language": "python",
   "name": "python3"
  },
  "language_info": {
   "codemirror_mode": {
    "name": "ipython",
    "version": 3
   },
   "file_extension": ".py",
   "mimetype": "text/x-python",
   "name": "python",
   "nbconvert_exporter": "python",
   "pygments_lexer": "ipython3",
   "version": "3.6.9"
  }
 },
 "nbformat": 4,
 "nbformat_minor": 2
}
