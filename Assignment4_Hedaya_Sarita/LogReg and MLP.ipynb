{
 "cells": [
  {
   "cell_type": "markdown",
   "metadata": {},
   "source": [
    "# 1. Document Classification"
   ]
  },
  {
   "cell_type": "code",
   "execution_count": 48,
   "metadata": {},
   "outputs": [
    {
     "name": "stdout",
     "output_type": "stream",
     "text": [
      "2.4.1\n",
      "PhysicalDevice(name='/physical_device:GPU:0', device_type='GPU')\n"
     ]
    }
   ],
   "source": [
    "import tensorflow as tf\n",
    "print(tf.__version__)\n",
    "gpus = tf.config.list_physical_devices('GPU')\n",
    "for device in gpus:\n",
    "    print(device)\n",
    "    tf.config.experimental.set_memory_growth(device, True)"
   ]
  },
  {
   "cell_type": "code",
   "execution_count": 82,
   "metadata": {},
   "outputs": [
    {
     "name": "stderr",
     "output_type": "stream",
     "text": [
      "[nltk_data] Downloading package stopwords to /root/nltk_data...\n",
      "[nltk_data]   Package stopwords is already up-to-date!\n",
      "[nltk_data] Downloading package punkt to /root/nltk_data...\n",
      "[nltk_data]   Package punkt is already up-to-date!\n"
     ]
    }
   ],
   "source": [
    "import pandas as pd\n",
    "import numpy as np\n",
    "import matplotlib.pyplot as plt\n",
    "import nltk\n",
    "from nltk.corpus import stopwords\n",
    "nltk.download('stopwords')\n",
    "nltk.download('punkt')\n",
    "import string\n",
    "import csv\n",
    "import re\n",
    "from sklearn.model_selection import train_test_split\n",
    "from sklearn.metrics import classification_report\n",
    "from sklearn.feature_extraction.text import TfidfTransformer, TfidfVectorizer"
   ]
  },
  {
   "cell_type": "markdown",
   "metadata": {},
   "source": [
    "## (a) Preprocess"
   ]
  },
  {
   "cell_type": "code",
   "execution_count": 83,
   "metadata": {},
   "outputs": [],
   "source": [
    "author_encode = {'fd':0, 'acd': 1, 'ja': 2}"
   ]
  },
  {
   "cell_type": "code",
   "execution_count": 99,
   "metadata": {},
   "outputs": [],
   "source": [
    "def import_data(filepaths_dict):\n",
    "    \n",
    "    stop_words = set(nltk.corpus.stopwords.words('english'))\n",
    "    tfidf_vectorizer = TfidfVectorizer(stop_words = stop_words, max_features=500)\n",
    "#     lst_all = []\n",
    "    x_all = []\n",
    "    y_all = []\n",
    "    \n",
    "    for author, filepath in filepaths_dict.items():\n",
    "        # get rows from .txt file\n",
    "        with open(filepath) as f:\n",
    "            reader = f.read()\n",
    "            reader = reader.split(\"\\n\\n\")\n",
    "\n",
    "            x_all.extend(reader)\n",
    "            y_all.extend([author_encode[author]] * len(reader))\n",
    "            \n",
    "            print(f\"author {author} has {len(reader)} samples\")\n",
    "                \n",
    "    \n",
    "    return x_all, y_all\n",
    "\n"
   ]
  },
  {
   "cell_type": "markdown",
   "metadata": {},
   "source": [
    "Run the functions defined above"
   ]
  },
  {
   "cell_type": "code",
   "execution_count": 100,
   "metadata": {},
   "outputs": [
    {
     "name": "stdout",
     "output_type": "stream",
     "text": [
      "author fd has 6055 samples\n",
      "author acd has 2548 samples\n",
      "author ja has 11495 samples\n"
     ]
    }
   ],
   "source": [
    "filepaths_dict = {'fd': './a4-data/q1/fd.txt',\n",
    "            'acd': './a4-data/q1/acd.txt',\n",
    "            'ja': './a4-data/q1/ja.txt'}\n",
    "\n",
    "x, y = import_data(filepaths_dict)"
   ]
  },
  {
   "cell_type": "code",
   "execution_count": 101,
   "metadata": {},
   "outputs": [],
   "source": [
    "y_arr = np.array(y)\n",
    "y = tf.keras.utils.to_categorical(y_arr, num_classes=3)"
   ]
  },
  {
   "cell_type": "code",
   "execution_count": 102,
   "metadata": {},
   "outputs": [],
   "source": [
    "assert(len(x) == len(y) == 6055+2548+11495)"
   ]
  },
  {
   "cell_type": "code",
   "execution_count": 103,
   "metadata": {},
   "outputs": [
    {
     "name": "stdout",
     "output_type": "stream",
     "text": [
      "Fitted a TF-IDF Vectorizer on the training data\n"
     ]
    }
   ],
   "source": [
    "stop_words = set(stopwords.words('english'))\n",
    "for paragraph in x:\n",
    "    paragraph = paragraph.replace('\\n', '')\n",
    "    # remove punctuation\n",
    "    paragraph = re.sub(r'[^\\w\\s]', '', paragraph)\n",
    "    paragraph = re.sub(' \\d+', '', paragraph)\n",
    "    \n",
    "# vectorize and transform the sentences into matrices that indicate the precence of the top 4000 words\n",
    "tfidf_vectorizer = TfidfVectorizer(stop_words = list(stop_words), max_features=4000)\n",
    "x_vec = tfidf_vectorizer.fit_transform(x)\n",
    "print(\"Fitted a TF-IDF Vectorizer on the training data\")"
   ]
  },
  {
   "cell_type": "code",
   "execution_count": 104,
   "metadata": {},
   "outputs": [],
   "source": [
    "# x = tf.keras.preprocessing.sequence.pad_sequences(x, maxlen=500)\n"
   ]
  },
  {
   "cell_type": "code",
   "execution_count": 105,
   "metadata": {},
   "outputs": [
    {
     "name": "stdout",
     "output_type": "stream",
     "text": [
      "The samples are distributed as class0, class1, class2: [ 6055  2548 11495]\n"
     ]
    }
   ],
   "source": [
    "print(f\"The samples are distributed as class0, class1, class2: {sum(y==1)}\")"
   ]
  },
  {
   "cell_type": "markdown",
   "metadata": {},
   "source": [
    "### Split into training and testing"
   ]
  },
  {
   "cell_type": "code",
   "execution_count": 106,
   "metadata": {
    "scrolled": true
   },
   "outputs": [],
   "source": [
    "x_train, x, y_train, y = train_test_split(x_vec, y, test_size=0.3, random_state=42, stratify=y_arr)"
   ]
  },
  {
   "cell_type": "code",
   "execution_count": 107,
   "metadata": {},
   "outputs": [],
   "source": [
    "x_val, x_test, y_val, y_test = train_test_split(x, y, test_size=0.333, random_state=28)"
   ]
  },
  {
   "cell_type": "code",
   "execution_count": 151,
   "metadata": {},
   "outputs": [
    {
     "name": "stdout",
     "output_type": "stream",
     "text": [
      "Sizes of sets:\n",
      "x_train: (14000, 4000)\n",
      "y_train: (14000, 3)\n",
      "x_val: (4000, 4000)\n",
      "y_val: (4000, 3)\n",
      "x_test (2000, 4000)\n",
      "y_test (2000,)\n"
     ]
    }
   ],
   "source": [
    "print(\"Sizes of sets:\")\n",
    "print(\"x_train:\", x_train.shape)\n",
    "print(\"y_train:\", y_train.shape)\n",
    "print(\"x_val:\", x_val.shape)\n",
    "print(\"y_val:\", y_val.shape)\n",
    "print(\"x_test\", x_test.shape)\n",
    "print(\"y_test\", y_test.shape)"
   ]
  },
  {
   "cell_type": "markdown",
   "metadata": {},
   "source": [
    "There is an obscure bug with the Tensorflow + CuDNN install for GPUs that occurs when there is a remainder when creating batches of data. To avoid this error, I adjusted the dataset lengths.\n",
    "Feel free to skip the cell directly below this box if you're not using a GPU for training."
   ]
  },
  {
   "cell_type": "code",
   "execution_count": 109,
   "metadata": {},
   "outputs": [],
   "source": [
    "x_train = x_train[0:14000]\n",
    "y_train = y_train[0:14000]\n",
    "x_val = x_val[0:4000]\n",
    "y_val = y_val[0:4000]\n",
    "x_test = x_test[0:2000]\n",
    "y_test = y_test[0:2000]"
   ]
  },
  {
   "cell_type": "code",
   "execution_count": 110,
   "metadata": {},
   "outputs": [
    {
     "name": "stdout",
     "output_type": "stream",
     "text": [
      "num_features: 4000\n"
     ]
    }
   ],
   "source": [
    "num_samples = x_train.shape[0]\n",
    "num_features = x_train.shape[1]\n",
    "num_classes = y_train.shape[1]\n",
    "\n",
    "print(\"num_features:\", num_features)"
   ]
  },
  {
   "cell_type": "markdown",
   "metadata": {},
   "source": [
    "## Logistic Regression"
   ]
  },
  {
   "cell_type": "markdown",
   "metadata": {},
   "source": [
    "### Define model"
   ]
  },
  {
   "cell_type": "code",
   "execution_count": 111,
   "metadata": {},
   "outputs": [],
   "source": [
    "def compute_loss(yhat, y, weights):\n",
    "    batch_size = yhat.shape[0]\n",
    "    celoss = (-1/batch_size) * np.sum(y * np.log(yhat)) + (regularization * np.sum(np.square(weights)))\n",
    "    return celoss\n",
    "\n",
    "def compute_grad(yhat, y_train, x_train, weights):\n",
    "    batch_size = yhat.shape[0]\n",
    "    grad = (1/batch_size) * (x_train.transpose() @ (yhat - y_train)) + (2*regularization) * weights  \n",
    "    return grad\n",
    "\n",
    "def adjust_weights(weights, grad, lr):\n",
    "    weights[:] = weights - lr * grad\n",
    "    return weights\n",
    "\n",
    "def labels_to_vectors(yhat, yreal):\n",
    "    assert(yhat.shape == yreal.shape)\n",
    "    pred = np.argmax(yhat, axis=1)\n",
    "    real = np.argmax(yreal, axis=1)\n",
    "    return pred, real\n",
    "\n",
    "def evaluate_accuracy(pred, real):\n",
    "    assert(pred.shape == real.shape)\n",
    "    return (np.sum(pred == real)) / pred.shape[0]"
   ]
  },
  {
   "cell_type": "code",
   "execution_count": 112,
   "metadata": {},
   "outputs": [],
   "source": [
    "def softmax(y_linear):\n",
    "    num = np.exp(y_linear)\n",
    "    norms = np.sum(num, axis=1)\n",
    "    norms = np.expand_dims(norms, axis=1)   \n",
    "    return num/norms\n",
    "\n",
    "def compute_prediction(x_train, weights):\n",
    "    y_linear = x_train @ weights\n",
    "    yhat = softmax(y_linear)\n",
    "    return yhat"
   ]
  },
  {
   "cell_type": "markdown",
   "metadata": {},
   "source": [
    "### Train Logistic regression model using minibatch GD"
   ]
  },
  {
   "cell_type": "code",
   "execution_count": 138,
   "metadata": {},
   "outputs": [],
   "source": [
    "MB_history = {'reg=0.01' :{'train_loss': [], 'train_acc': [], 'val_loss': [], 'val_acc': []},\n",
    "             'reg=0.001' :{'train_loss': [], 'train_acc': [], 'val_loss': [], 'val_acc': []},\n",
    "            'reg=0.0001': {'train_loss': [], 'train_acc': [], 'val_loss': [], 'val_acc': []}\n",
    "              }"
   ]
  },
  {
   "cell_type": "code",
   "execution_count": 141,
   "metadata": {},
   "outputs": [
    {
     "name": "stdout",
     "output_type": "stream",
     "text": [
      "Epoch 0 reg= 0.001    train_loss: 3.4315 train_acc: 0.81793    val_loss: 3.4559 val_acc: 0.7935\n",
      "Epoch 1 reg= 0.001    train_loss: 3.43 train_acc: 0.81793    val_loss: 3.4544 val_acc: 0.7935\n",
      "Epoch 2 reg= 0.001    train_loss: 3.4285 train_acc: 0.81793    val_loss: 3.4529 val_acc: 0.7935\n",
      "Epoch 3 reg= 0.001    train_loss: 3.427 train_acc: 0.81793    val_loss: 3.4513 val_acc: 0.7935\n",
      "Epoch 4 reg= 0.001    train_loss: 3.4255 train_acc: 0.81793    val_loss: 3.4498 val_acc: 0.7935\n",
      "Epoch 5 reg= 0.001    train_loss: 3.424 train_acc: 0.81793    val_loss: 3.4483 val_acc: 0.7935\n",
      "Epoch 6 reg= 0.001    train_loss: 3.4225 train_acc: 0.81793    val_loss: 3.4468 val_acc: 0.7935\n",
      "Epoch 7 reg= 0.001    train_loss: 3.421 train_acc: 0.81793    val_loss: 3.4453 val_acc: 0.7935\n",
      "Epoch 8 reg= 0.001    train_loss: 3.4195 train_acc: 0.81793    val_loss: 3.4438 val_acc: 0.7935\n",
      "Epoch 9 reg= 0.001    train_loss: 3.418 train_acc: 0.818    val_loss: 3.4423 val_acc: 0.7935\n",
      "Epoch 10 reg= 0.001    train_loss: 3.4165 train_acc: 0.818    val_loss: 3.4408 val_acc: 0.7935\n",
      "Epoch 11 reg= 0.001    train_loss: 3.415 train_acc: 0.81807    val_loss: 3.4393 val_acc: 0.7935\n",
      "Epoch 12 reg= 0.001    train_loss: 3.4134 train_acc: 0.81807    val_loss: 3.4378 val_acc: 0.7935\n",
      "Epoch 13 reg= 0.001    train_loss: 3.4119 train_acc: 0.81807    val_loss: 3.4363 val_acc: 0.7935\n",
      "Epoch 14 reg= 0.001    train_loss: 3.4104 train_acc: 0.81807    val_loss: 3.4348 val_acc: 0.7935\n",
      "Epoch 15 reg= 0.001    train_loss: 3.4089 train_acc: 0.81807    val_loss: 3.4333 val_acc: 0.7935\n",
      "Epoch 16 reg= 0.001    train_loss: 3.4074 train_acc: 0.81807    val_loss: 3.4318 val_acc: 0.7935\n",
      "Epoch 17 reg= 0.001    train_loss: 3.4059 train_acc: 0.81807    val_loss: 3.4303 val_acc: 0.7935\n",
      "Epoch 18 reg= 0.001    train_loss: 3.4044 train_acc: 0.81807    val_loss: 3.4288 val_acc: 0.7935\n",
      "Epoch 19 reg= 0.001    train_loss: 3.4029 train_acc: 0.81807    val_loss: 3.4273 val_acc: 0.7935\n",
      "Epoch 20 reg= 0.001    train_loss: 3.4015 train_acc: 0.81807    val_loss: 3.4258 val_acc: 0.7935\n",
      "Epoch 21 reg= 0.001    train_loss: 3.4 train_acc: 0.81807    val_loss: 3.4243 val_acc: 0.7935\n",
      "Epoch 22 reg= 0.001    train_loss: 3.3985 train_acc: 0.81807    val_loss: 3.4228 val_acc: 0.7935\n",
      "Epoch 23 reg= 0.001    train_loss: 3.397 train_acc: 0.81807    val_loss: 3.4213 val_acc: 0.7935\n",
      "Epoch 24 reg= 0.001    train_loss: 3.3955 train_acc: 0.81807    val_loss: 3.4198 val_acc: 0.7935\n",
      "Epoch 25 reg= 0.001    train_loss: 3.394 train_acc: 0.81807    val_loss: 3.4183 val_acc: 0.7935\n",
      "Epoch 26 reg= 0.001    train_loss: 3.3925 train_acc: 0.81807    val_loss: 3.4168 val_acc: 0.7935\n",
      "Epoch 27 reg= 0.001    train_loss: 3.391 train_acc: 0.81807    val_loss: 3.4153 val_acc: 0.7935\n",
      "Epoch 28 reg= 0.001    train_loss: 3.3895 train_acc: 0.81807    val_loss: 3.4138 val_acc: 0.7935\n",
      "Epoch 29 reg= 0.001    train_loss: 3.388 train_acc: 0.81807    val_loss: 3.4123 val_acc: 0.7935\n",
      "Epoch 30 reg= 0.001    train_loss: 3.3865 train_acc: 0.81807    val_loss: 3.4108 val_acc: 0.7935\n",
      "Epoch 31 reg= 0.001    train_loss: 3.3851 train_acc: 0.81807    val_loss: 3.4093 val_acc: 0.7935\n",
      "Epoch 32 reg= 0.001    train_loss: 3.3836 train_acc: 0.81807    val_loss: 3.4078 val_acc: 0.7935\n",
      "Epoch 33 reg= 0.001    train_loss: 3.3821 train_acc: 0.81807    val_loss: 3.4064 val_acc: 0.7935\n",
      "Epoch 34 reg= 0.001    train_loss: 3.3806 train_acc: 0.81807    val_loss: 3.4049 val_acc: 0.7935\n",
      "Epoch 35 reg= 0.001    train_loss: 3.3791 train_acc: 0.81807    val_loss: 3.4034 val_acc: 0.7935\n",
      "Epoch 36 reg= 0.001    train_loss: 3.3776 train_acc: 0.81807    val_loss: 3.4019 val_acc: 0.7935\n",
      "Epoch 37 reg= 0.001    train_loss: 3.3762 train_acc: 0.81807    val_loss: 3.4004 val_acc: 0.7935\n",
      "Epoch 38 reg= 0.001    train_loss: 3.3747 train_acc: 0.81807    val_loss: 3.3989 val_acc: 0.7935\n",
      "Epoch 39 reg= 0.001    train_loss: 3.3732 train_acc: 0.81807    val_loss: 3.3974 val_acc: 0.7935\n",
      "Epoch 40 reg= 0.001    train_loss: 3.3717 train_acc: 0.81807    val_loss: 3.396 val_acc: 0.7935\n",
      "Epoch 41 reg= 0.001    train_loss: 3.3702 train_acc: 0.81807    val_loss: 3.3945 val_acc: 0.7935\n",
      "Epoch 42 reg= 0.001    train_loss: 3.3688 train_acc: 0.81807    val_loss: 3.393 val_acc: 0.7935\n",
      "Epoch 43 reg= 0.001    train_loss: 3.3673 train_acc: 0.81807    val_loss: 3.3915 val_acc: 0.7935\n",
      "Epoch 44 reg= 0.001    train_loss: 3.3658 train_acc: 0.81807    val_loss: 3.3901 val_acc: 0.7935\n",
      "Epoch 45 reg= 0.001    train_loss: 3.3643 train_acc: 0.81807    val_loss: 3.3886 val_acc: 0.7935\n",
      "Epoch 46 reg= 0.001    train_loss: 3.3629 train_acc: 0.81807    val_loss: 3.3871 val_acc: 0.7935\n",
      "Epoch 47 reg= 0.001    train_loss: 3.3614 train_acc: 0.81807    val_loss: 3.3856 val_acc: 0.7935\n",
      "Epoch 48 reg= 0.001    train_loss: 3.3599 train_acc: 0.81807    val_loss: 3.3841 val_acc: 0.7935\n",
      "Epoch 49 reg= 0.001    train_loss: 3.3584 train_acc: 0.81807    val_loss: 3.3827 val_acc: 0.7935\n",
      "Epoch 50 reg= 0.001    train_loss: 3.357 train_acc: 0.81807    val_loss: 3.3812 val_acc: 0.7935\n",
      "Epoch 51 reg= 0.001    train_loss: 3.3555 train_acc: 0.81807    val_loss: 3.3797 val_acc: 0.7935\n",
      "Epoch 52 reg= 0.001    train_loss: 3.354 train_acc: 0.81807    val_loss: 3.3783 val_acc: 0.7935\n",
      "Epoch 53 reg= 0.001    train_loss: 3.3526 train_acc: 0.81807    val_loss: 3.3768 val_acc: 0.7935\n",
      "Epoch 54 reg= 0.001    train_loss: 3.3511 train_acc: 0.81807    val_loss: 3.3753 val_acc: 0.7935\n",
      "Epoch 55 reg= 0.001    train_loss: 3.3496 train_acc: 0.81807    val_loss: 3.3739 val_acc: 0.7935\n",
      "Epoch 56 reg= 0.001    train_loss: 3.3482 train_acc: 0.81807    val_loss: 3.3724 val_acc: 0.7935\n",
      "Epoch 57 reg= 0.001    train_loss: 3.3467 train_acc: 0.81807    val_loss: 3.3709 val_acc: 0.7935\n",
      "Epoch 58 reg= 0.001    train_loss: 3.3452 train_acc: 0.81807    val_loss: 3.3695 val_acc: 0.7935\n",
      "Epoch 59 reg= 0.001    train_loss: 3.3438 train_acc: 0.81807    val_loss: 3.368 val_acc: 0.7935\n",
      "Epoch 60 reg= 0.001    train_loss: 3.3423 train_acc: 0.81807    val_loss: 3.3665 val_acc: 0.7935\n",
      "Epoch 61 reg= 0.001    train_loss: 3.3409 train_acc: 0.81807    val_loss: 3.3651 val_acc: 0.7935\n",
      "Epoch 62 reg= 0.001    train_loss: 3.3394 train_acc: 0.81807    val_loss: 3.3636 val_acc: 0.7935\n",
      "Epoch 63 reg= 0.001    train_loss: 3.3379 train_acc: 0.81807    val_loss: 3.3621 val_acc: 0.7935\n",
      "Epoch 64 reg= 0.001    train_loss: 3.3365 train_acc: 0.81807    val_loss: 3.3607 val_acc: 0.7935\n",
      "Epoch 65 reg= 0.001    train_loss: 3.335 train_acc: 0.81807    val_loss: 3.3592 val_acc: 0.7935\n",
      "Epoch 66 reg= 0.001    train_loss: 3.3336 train_acc: 0.81814    val_loss: 3.3578 val_acc: 0.7935\n",
      "Epoch 67 reg= 0.001    train_loss: 3.3321 train_acc: 0.81821    val_loss: 3.3563 val_acc: 0.7935\n",
      "Epoch 68 reg= 0.001    train_loss: 3.3307 train_acc: 0.81821    val_loss: 3.3548 val_acc: 0.7935\n",
      "Epoch 69 reg= 0.001    train_loss: 3.3292 train_acc: 0.81821    val_loss: 3.3534 val_acc: 0.7935\n",
      "Epoch 70 reg= 0.001    train_loss: 3.3277 train_acc: 0.81821    val_loss: 3.3519 val_acc: 0.7935\n",
      "Epoch 71 reg= 0.001    train_loss: 3.3263 train_acc: 0.81821    val_loss: 3.3505 val_acc: 0.7935\n",
      "Epoch 72 reg= 0.001    train_loss: 3.3248 train_acc: 0.81821    val_loss: 3.349 val_acc: 0.7935\n",
      "Epoch 73 reg= 0.001    train_loss: 3.3234 train_acc: 0.81821    val_loss: 3.3476 val_acc: 0.7935\n",
      "Epoch 74 reg= 0.001    train_loss: 3.3219 train_acc: 0.81821    val_loss: 3.3461 val_acc: 0.7935\n",
      "Epoch 75 reg= 0.001    train_loss: 3.3205 train_acc: 0.81821    val_loss: 3.3447 val_acc: 0.7935\n",
      "Epoch 76 reg= 0.001    train_loss: 3.319 train_acc: 0.81821    val_loss: 3.3432 val_acc: 0.7935\n",
      "Epoch 77 reg= 0.001    train_loss: 3.3176 train_acc: 0.81821    val_loss: 3.3418 val_acc: 0.7935\n",
      "Epoch 78 reg= 0.001    train_loss: 3.3162 train_acc: 0.81821    val_loss: 3.3403 val_acc: 0.7935\n",
      "Epoch 79 reg= 0.001    train_loss: 3.3147 train_acc: 0.81821    val_loss: 3.3389 val_acc: 0.7935\n",
      "Epoch 80 reg= 0.001    train_loss: 3.3133 train_acc: 0.81821    val_loss: 3.3374 val_acc: 0.7935\n",
      "Epoch 81 reg= 0.001    train_loss: 3.3118 train_acc: 0.81821    val_loss: 3.336 val_acc: 0.7935\n",
      "Epoch 82 reg= 0.001    train_loss: 3.3104 train_acc: 0.81821    val_loss: 3.3345 val_acc: 0.7935\n",
      "Epoch 83 reg= 0.001    train_loss: 3.3089 train_acc: 0.81821    val_loss: 3.3331 val_acc: 0.7935\n",
      "Epoch 84 reg= 0.001    train_loss: 3.3075 train_acc: 0.81821    val_loss: 3.3316 val_acc: 0.79375\n",
      "Epoch 85 reg= 0.001    train_loss: 3.3061 train_acc: 0.81821    val_loss: 3.3302 val_acc: 0.79375\n",
      "Epoch 86 reg= 0.001    train_loss: 3.3046 train_acc: 0.81821    val_loss: 3.3288 val_acc: 0.79375\n",
      "Epoch 87 reg= 0.001    train_loss: 3.3032 train_acc: 0.81821    val_loss: 3.3273 val_acc: 0.79375\n",
      "Epoch 88 reg= 0.001    train_loss: 3.3017 train_acc: 0.81821    val_loss: 3.3259 val_acc: 0.79375\n",
      "Epoch 89 reg= 0.001    train_loss: 3.3003 train_acc: 0.81829    val_loss: 3.3244 val_acc: 0.79375\n"
     ]
    },
    {
     "name": "stdout",
     "output_type": "stream",
     "text": [
      "Epoch 90 reg= 0.001    train_loss: 3.2989 train_acc: 0.81829    val_loss: 3.323 val_acc: 0.79375\n",
      "Epoch 91 reg= 0.001    train_loss: 3.2974 train_acc: 0.81836    val_loss: 3.3216 val_acc: 0.79375\n",
      "Epoch 92 reg= 0.001    train_loss: 3.296 train_acc: 0.81836    val_loss: 3.3201 val_acc: 0.79375\n",
      "Epoch 93 reg= 0.001    train_loss: 3.2946 train_acc: 0.81836    val_loss: 3.3187 val_acc: 0.79375\n",
      "Epoch 94 reg= 0.001    train_loss: 3.2931 train_acc: 0.81836    val_loss: 3.3173 val_acc: 0.79375\n",
      "Epoch 95 reg= 0.001    train_loss: 3.2917 train_acc: 0.81843    val_loss: 3.3158 val_acc: 0.79375\n",
      "Epoch 96 reg= 0.001    train_loss: 3.2903 train_acc: 0.81843    val_loss: 3.3144 val_acc: 0.79375\n",
      "Epoch 97 reg= 0.001    train_loss: 3.2888 train_acc: 0.81843    val_loss: 3.313 val_acc: 0.79375\n",
      "Epoch 98 reg= 0.001    train_loss: 3.2874 train_acc: 0.81843    val_loss: 3.3115 val_acc: 0.79375\n",
      "Epoch 99 reg= 0.001    train_loss: 3.286 train_acc: 0.81843    val_loss: 3.3101 val_acc: 0.79375\n",
      "Epoch 0 reg= 0.0001    train_loss: 0.813 train_acc: 0.81843    val_loss: 0.8378 val_acc: 0.79375\n",
      "Epoch 1 reg= 0.0001    train_loss: 0.813 train_acc: 0.81843    val_loss: 0.8378 val_acc: 0.79375\n",
      "Epoch 2 reg= 0.0001    train_loss: 0.813 train_acc: 0.81843    val_loss: 0.8378 val_acc: 0.79375\n",
      "Epoch 3 reg= 0.0001    train_loss: 0.8129 train_acc: 0.81843    val_loss: 0.8378 val_acc: 0.79375\n",
      "Epoch 4 reg= 0.0001    train_loss: 0.8129 train_acc: 0.81843    val_loss: 0.8377 val_acc: 0.79375\n",
      "Epoch 5 reg= 0.0001    train_loss: 0.8129 train_acc: 0.81843    val_loss: 0.8377 val_acc: 0.79375\n",
      "Epoch 6 reg= 0.0001    train_loss: 0.8129 train_acc: 0.81843    val_loss: 0.8377 val_acc: 0.79375\n",
      "Epoch 7 reg= 0.0001    train_loss: 0.8128 train_acc: 0.81843    val_loss: 0.8377 val_acc: 0.79375\n",
      "Epoch 8 reg= 0.0001    train_loss: 0.8128 train_acc: 0.81843    val_loss: 0.8376 val_acc: 0.79375\n",
      "Epoch 9 reg= 0.0001    train_loss: 0.8128 train_acc: 0.81843    val_loss: 0.8376 val_acc: 0.79375\n",
      "Epoch 10 reg= 0.0001    train_loss: 0.8127 train_acc: 0.81843    val_loss: 0.8376 val_acc: 0.79375\n",
      "Epoch 11 reg= 0.0001    train_loss: 0.8127 train_acc: 0.81843    val_loss: 0.8376 val_acc: 0.79375\n",
      "Epoch 12 reg= 0.0001    train_loss: 0.8127 train_acc: 0.8185    val_loss: 0.8375 val_acc: 0.79375\n",
      "Epoch 13 reg= 0.0001    train_loss: 0.8127 train_acc: 0.81857    val_loss: 0.8375 val_acc: 0.79375\n",
      "Epoch 14 reg= 0.0001    train_loss: 0.8126 train_acc: 0.81857    val_loss: 0.8375 val_acc: 0.79375\n",
      "Epoch 15 reg= 0.0001    train_loss: 0.8126 train_acc: 0.81857    val_loss: 0.8375 val_acc: 0.79375\n",
      "Epoch 16 reg= 0.0001    train_loss: 0.8126 train_acc: 0.81857    val_loss: 0.8374 val_acc: 0.79375\n",
      "Epoch 17 reg= 0.0001    train_loss: 0.8126 train_acc: 0.81857    val_loss: 0.8374 val_acc: 0.79375\n",
      "Epoch 18 reg= 0.0001    train_loss: 0.8125 train_acc: 0.8185    val_loss: 0.8374 val_acc: 0.79375\n",
      "Epoch 19 reg= 0.0001    train_loss: 0.8125 train_acc: 0.81857    val_loss: 0.8374 val_acc: 0.79375\n",
      "Epoch 20 reg= 0.0001    train_loss: 0.8125 train_acc: 0.81857    val_loss: 0.8373 val_acc: 0.79375\n",
      "Epoch 21 reg= 0.0001    train_loss: 0.8125 train_acc: 0.81857    val_loss: 0.8373 val_acc: 0.79375\n",
      "Epoch 22 reg= 0.0001    train_loss: 0.8124 train_acc: 0.81857    val_loss: 0.8373 val_acc: 0.79375\n",
      "Epoch 23 reg= 0.0001    train_loss: 0.8124 train_acc: 0.81857    val_loss: 0.8373 val_acc: 0.79375\n",
      "Epoch 24 reg= 0.0001    train_loss: 0.8124 train_acc: 0.81857    val_loss: 0.8372 val_acc: 0.79375\n",
      "Epoch 25 reg= 0.0001    train_loss: 0.8124 train_acc: 0.81857    val_loss: 0.8372 val_acc: 0.79375\n",
      "Epoch 26 reg= 0.0001    train_loss: 0.8123 train_acc: 0.81857    val_loss: 0.8372 val_acc: 0.79375\n",
      "Epoch 27 reg= 0.0001    train_loss: 0.8123 train_acc: 0.81857    val_loss: 0.8372 val_acc: 0.79375\n",
      "Epoch 28 reg= 0.0001    train_loss: 0.8123 train_acc: 0.81857    val_loss: 0.8372 val_acc: 0.79375\n",
      "Epoch 29 reg= 0.0001    train_loss: 0.8123 train_acc: 0.81857    val_loss: 0.8371 val_acc: 0.79375\n",
      "Epoch 30 reg= 0.0001    train_loss: 0.8122 train_acc: 0.81857    val_loss: 0.8371 val_acc: 0.79375\n",
      "Epoch 31 reg= 0.0001    train_loss: 0.8122 train_acc: 0.81857    val_loss: 0.8371 val_acc: 0.79375\n",
      "Epoch 32 reg= 0.0001    train_loss: 0.8122 train_acc: 0.81857    val_loss: 0.8371 val_acc: 0.79375\n",
      "Epoch 33 reg= 0.0001    train_loss: 0.8122 train_acc: 0.81857    val_loss: 0.837 val_acc: 0.79375\n",
      "Epoch 34 reg= 0.0001    train_loss: 0.8121 train_acc: 0.81864    val_loss: 0.837 val_acc: 0.794\n",
      "Epoch 35 reg= 0.0001    train_loss: 0.8121 train_acc: 0.81864    val_loss: 0.837 val_acc: 0.794\n",
      "Epoch 36 reg= 0.0001    train_loss: 0.8121 train_acc: 0.81864    val_loss: 0.837 val_acc: 0.794\n",
      "Epoch 37 reg= 0.0001    train_loss: 0.812 train_acc: 0.81871    val_loss: 0.8369 val_acc: 0.794\n",
      "Epoch 38 reg= 0.0001    train_loss: 0.812 train_acc: 0.81871    val_loss: 0.8369 val_acc: 0.794\n",
      "Epoch 39 reg= 0.0001    train_loss: 0.812 train_acc: 0.81871    val_loss: 0.8369 val_acc: 0.794\n",
      "Epoch 40 reg= 0.0001    train_loss: 0.812 train_acc: 0.81871    val_loss: 0.8369 val_acc: 0.794\n",
      "Epoch 41 reg= 0.0001    train_loss: 0.8119 train_acc: 0.81871    val_loss: 0.8368 val_acc: 0.794\n",
      "Epoch 42 reg= 0.0001    train_loss: 0.8119 train_acc: 0.81871    val_loss: 0.8368 val_acc: 0.794\n",
      "Epoch 43 reg= 0.0001    train_loss: 0.8119 train_acc: 0.81871    val_loss: 0.8368 val_acc: 0.794\n",
      "Epoch 44 reg= 0.0001    train_loss: 0.8119 train_acc: 0.81871    val_loss: 0.8368 val_acc: 0.794\n",
      "Epoch 45 reg= 0.0001    train_loss: 0.8118 train_acc: 0.81871    val_loss: 0.8367 val_acc: 0.794\n",
      "Epoch 46 reg= 0.0001    train_loss: 0.8118 train_acc: 0.81871    val_loss: 0.8367 val_acc: 0.794\n",
      "Epoch 47 reg= 0.0001    train_loss: 0.8118 train_acc: 0.81871    val_loss: 0.8367 val_acc: 0.794\n",
      "Epoch 48 reg= 0.0001    train_loss: 0.8118 train_acc: 0.81871    val_loss: 0.8367 val_acc: 0.794\n",
      "Epoch 49 reg= 0.0001    train_loss: 0.8117 train_acc: 0.81871    val_loss: 0.8366 val_acc: 0.79425\n",
      "Epoch 50 reg= 0.0001    train_loss: 0.8117 train_acc: 0.81871    val_loss: 0.8366 val_acc: 0.79425\n",
      "Epoch 51 reg= 0.0001    train_loss: 0.8117 train_acc: 0.81871    val_loss: 0.8366 val_acc: 0.79425\n",
      "Epoch 52 reg= 0.0001    train_loss: 0.8117 train_acc: 0.81871    val_loss: 0.8366 val_acc: 0.79425\n",
      "Epoch 53 reg= 0.0001    train_loss: 0.8116 train_acc: 0.81871    val_loss: 0.8365 val_acc: 0.79425\n",
      "Epoch 54 reg= 0.0001    train_loss: 0.8116 train_acc: 0.81871    val_loss: 0.8365 val_acc: 0.79425\n",
      "Epoch 55 reg= 0.0001    train_loss: 0.8116 train_acc: 0.81871    val_loss: 0.8365 val_acc: 0.79425\n",
      "Epoch 56 reg= 0.0001    train_loss: 0.8116 train_acc: 0.81871    val_loss: 0.8365 val_acc: 0.79425\n",
      "Epoch 57 reg= 0.0001    train_loss: 0.8115 train_acc: 0.81871    val_loss: 0.8364 val_acc: 0.79425\n",
      "Epoch 58 reg= 0.0001    train_loss: 0.8115 train_acc: 0.81871    val_loss: 0.8364 val_acc: 0.79425\n",
      "Epoch 59 reg= 0.0001    train_loss: 0.8115 train_acc: 0.81871    val_loss: 0.8364 val_acc: 0.79425\n",
      "Epoch 60 reg= 0.0001    train_loss: 0.8115 train_acc: 0.81871    val_loss: 0.8364 val_acc: 0.79425\n",
      "Epoch 61 reg= 0.0001    train_loss: 0.8114 train_acc: 0.81871    val_loss: 0.8363 val_acc: 0.79425\n",
      "Epoch 62 reg= 0.0001    train_loss: 0.8114 train_acc: 0.81871    val_loss: 0.8363 val_acc: 0.79425\n",
      "Epoch 63 reg= 0.0001    train_loss: 0.8114 train_acc: 0.81871    val_loss: 0.8363 val_acc: 0.79425\n",
      "Epoch 64 reg= 0.0001    train_loss: 0.8113 train_acc: 0.81871    val_loss: 0.8363 val_acc: 0.79425\n",
      "Epoch 65 reg= 0.0001    train_loss: 0.8113 train_acc: 0.81871    val_loss: 0.8363 val_acc: 0.79425\n",
      "Epoch 66 reg= 0.0001    train_loss: 0.8113 train_acc: 0.81871    val_loss: 0.8362 val_acc: 0.79425\n",
      "Epoch 67 reg= 0.0001    train_loss: 0.8113 train_acc: 0.81871    val_loss: 0.8362 val_acc: 0.79425\n",
      "Epoch 68 reg= 0.0001    train_loss: 0.8112 train_acc: 0.81871    val_loss: 0.8362 val_acc: 0.79425\n",
      "Epoch 69 reg= 0.0001    train_loss: 0.8112 train_acc: 0.81871    val_loss: 0.8362 val_acc: 0.79425\n",
      "Epoch 70 reg= 0.0001    train_loss: 0.8112 train_acc: 0.81871    val_loss: 0.8361 val_acc: 0.79425\n",
      "Epoch 71 reg= 0.0001    train_loss: 0.8112 train_acc: 0.81871    val_loss: 0.8361 val_acc: 0.79425\n",
      "Epoch 72 reg= 0.0001    train_loss: 0.8111 train_acc: 0.81871    val_loss: 0.8361 val_acc: 0.79425\n",
      "Epoch 73 reg= 0.0001    train_loss: 0.8111 train_acc: 0.81871    val_loss: 0.8361 val_acc: 0.79425\n"
     ]
    },
    {
     "name": "stdout",
     "output_type": "stream",
     "text": [
      "Epoch 74 reg= 0.0001    train_loss: 0.8111 train_acc: 0.81871    val_loss: 0.836 val_acc: 0.79425\n",
      "Epoch 75 reg= 0.0001    train_loss: 0.8111 train_acc: 0.81871    val_loss: 0.836 val_acc: 0.79425\n",
      "Epoch 76 reg= 0.0001    train_loss: 0.811 train_acc: 0.81871    val_loss: 0.836 val_acc: 0.79425\n",
      "Epoch 77 reg= 0.0001    train_loss: 0.811 train_acc: 0.81871    val_loss: 0.836 val_acc: 0.79425\n",
      "Epoch 78 reg= 0.0001    train_loss: 0.811 train_acc: 0.81871    val_loss: 0.8359 val_acc: 0.7945\n",
      "Epoch 79 reg= 0.0001    train_loss: 0.811 train_acc: 0.81871    val_loss: 0.8359 val_acc: 0.7945\n",
      "Epoch 80 reg= 0.0001    train_loss: 0.8109 train_acc: 0.81871    val_loss: 0.8359 val_acc: 0.7945\n",
      "Epoch 81 reg= 0.0001    train_loss: 0.8109 train_acc: 0.81871    val_loss: 0.8359 val_acc: 0.7945\n",
      "Epoch 82 reg= 0.0001    train_loss: 0.8109 train_acc: 0.81871    val_loss: 0.8358 val_acc: 0.7945\n",
      "Epoch 83 reg= 0.0001    train_loss: 0.8109 train_acc: 0.81871    val_loss: 0.8358 val_acc: 0.7945\n",
      "Epoch 84 reg= 0.0001    train_loss: 0.8108 train_acc: 0.81871    val_loss: 0.8358 val_acc: 0.7945\n",
      "Epoch 85 reg= 0.0001    train_loss: 0.8108 train_acc: 0.81871    val_loss: 0.8358 val_acc: 0.79475\n",
      "Epoch 86 reg= 0.0001    train_loss: 0.8108 train_acc: 0.81871    val_loss: 0.8357 val_acc: 0.79475\n",
      "Epoch 87 reg= 0.0001    train_loss: 0.8108 train_acc: 0.81871    val_loss: 0.8357 val_acc: 0.79475\n",
      "Epoch 88 reg= 0.0001    train_loss: 0.8107 train_acc: 0.81871    val_loss: 0.8357 val_acc: 0.79475\n",
      "Epoch 89 reg= 0.0001    train_loss: 0.8107 train_acc: 0.81879    val_loss: 0.8357 val_acc: 0.79475\n",
      "Epoch 90 reg= 0.0001    train_loss: 0.8107 train_acc: 0.81879    val_loss: 0.8356 val_acc: 0.79475\n",
      "Epoch 91 reg= 0.0001    train_loss: 0.8106 train_acc: 0.81879    val_loss: 0.8356 val_acc: 0.79475\n",
      "Epoch 92 reg= 0.0001    train_loss: 0.8106 train_acc: 0.81879    val_loss: 0.8356 val_acc: 0.79475\n",
      "Epoch 93 reg= 0.0001    train_loss: 0.8106 train_acc: 0.81879    val_loss: 0.8356 val_acc: 0.79475\n",
      "Epoch 94 reg= 0.0001    train_loss: 0.8106 train_acc: 0.81879    val_loss: 0.8355 val_acc: 0.79475\n",
      "Epoch 95 reg= 0.0001    train_loss: 0.8105 train_acc: 0.81886    val_loss: 0.8355 val_acc: 0.79475\n",
      "Epoch 96 reg= 0.0001    train_loss: 0.8105 train_acc: 0.81886    val_loss: 0.8355 val_acc: 0.79475\n",
      "Epoch 97 reg= 0.0001    train_loss: 0.8105 train_acc: 0.81886    val_loss: 0.8355 val_acc: 0.79475\n",
      "Epoch 98 reg= 0.0001    train_loss: 0.8105 train_acc: 0.81886    val_loss: 0.8355 val_acc: 0.79475\n",
      "Epoch 99 reg= 0.0001    train_loss: 0.8104 train_acc: 0.81886    val_loss: 0.8354 val_acc: 0.79475\n"
     ]
    }
   ],
   "source": [
    "epochs = 100\n",
    "lr = 0.001\n",
    "reg_params = [0.001, 0.0001]\n",
    "batch_size = 100\n",
    "\n",
    "for regularization in reg_params:\n",
    "    \n",
    "#     weights_MB = np.random.rand(num_features, num_classes)\n",
    "    \n",
    "    for epoch in range(epochs):\n",
    "        cum_loss = 0\n",
    "\n",
    "        for i in range(0, num_samples, batch_size):\n",
    "\n",
    "            x = x_train[i:i+batch_size, :]\n",
    "            y = y_train[i:i+batch_size, :]\n",
    "\n",
    "            yhat = compute_prediction(x, weights_MB)\n",
    "            loss = compute_loss(yhat, y, weights_MB)\n",
    "            cum_loss += loss\n",
    "\n",
    "            grad = compute_grad(yhat, y, x, weights_MB)\n",
    "            weights = adjust_weights(weights_MB, grad, lr)\n",
    "\n",
    "            \n",
    "        pred = compute_prediction(x_train, weights_MB)\n",
    "\n",
    "        pred, real = labels_to_vectors(pred, y_train)\n",
    "        train_acc = evaluate_accuracy(pred, real)\n",
    "        train_loss = cum_loss / (num_samples//batch_size)\n",
    "\n",
    "        y_val_pred = compute_prediction(x_val, weights)\n",
    "        val_loss = compute_loss(y_val_pred, y_val, weights_MB)\n",
    "        pred, real = labels_to_vectors(y_val_pred, y_val)\n",
    "        val_acc = evaluate_accuracy(pred, real)\n",
    "\n",
    "\n",
    "\n",
    "        print(\"Epoch\", epoch, \"reg=\", regularization, \"   train_loss:\", round(train_loss, 4), \"train_acc:\", round(train_acc, 5), \"   val_loss:\", round(val_loss, 4), \"val_acc:\", round(val_acc,5))\n",
    "        MB_history[str('reg=' + str(regularization))]['train_loss'].append(train_loss)\n",
    "        MB_history[str('reg=' + str(regularization))]['train_acc'].append(train_acc)\n",
    "        MB_history[str('reg=' + str(regularization))]['val_loss'].append(val_loss)\n",
    "        MB_history[str('reg=' + str(regularization))]['val_acc'].append(val_acc)\n",
    "\n",
    "        "
   ]
  },
  {
   "cell_type": "markdown",
   "metadata": {},
   "source": [
    "### Plot results"
   ]
  },
  {
   "cell_type": "code",
   "execution_count": 129,
   "metadata": {},
   "outputs": [],
   "source": [
    "def plot_loss(history, title):\n",
    "    plt.plot(history['train_loss'], color='y', label='training loss')\n",
    "    plt.plot(history['val_loss'], color='r', label='validation loss')\n",
    "    plt.ylabel('loss')\n",
    "    plt.xlabel('epoch')\n",
    "    plt.title(title)\n",
    "    plt.legend()\n",
    "    plt.show()"
   ]
  },
  {
   "cell_type": "code",
   "execution_count": 130,
   "metadata": {},
   "outputs": [],
   "source": [
    "def plot_accuracy(history, title):\n",
    "    plt.plot(history['train_acc'], color='y', label='training accuracy')\n",
    "    plt.plot(history['val_acc'], color='r', label='validation accuracy')\n",
    "    plt.ylabel('accuracy')\n",
    "    plt.xlabel('epoch')\n",
    "    plt.title(title)\n",
    "    plt.legend()\n",
    "    plt.show()    "
   ]
  },
  {
   "cell_type": "code",
   "execution_count": 142,
   "metadata": {},
   "outputs": [
    {
     "data": {
      "image/png": "[encoded data removed]",
      "text/plain": [
       "<Figure size 432x288 with 1 Axes>"
      ]
     },
     "metadata": {
      "needs_background": "light"
     },
     "output_type": "display_data"
    },
    {
     "data": {
      "image/png": "[encoded data removed]",
      "text/plain": [
       "<Figure size 432x288 with 1 Axes>"
      ]
     },
     "metadata": {
      "needs_background": "light"
     },
     "output_type": "display_data"
    },
    {
     "data": {
      "image/png": "[encoded data removed]",
      "text/plain": [
       "<Figure size 432x288 with 1 Axes>"
      ]
     },
     "metadata": {
      "needs_background": "light"
     },
     "output_type": "display_data"
    },
    {
     "data": {
      "image/png": "[encoded data removed]",
      "text/plain": [
       "<Figure size 432x288 with 1 Axes>"
      ]
     },
     "metadata": {
      "needs_background": "light"
     },
     "output_type": "display_data"
    }
   ],
   "source": [
    "for reg in reg_params:\n",
    "    plot_loss(MB_history[str('reg=' + str(reg))], str('MBGD with reg=' + str(reg)))\n",
    "    plot_accuracy(MB_history[str('reg=' + str(reg))], str('MBGD with reg=' + str(reg)))"
   ]
  },
  {
   "cell_type": "markdown",
   "metadata": {},
   "source": [
    "## (d) Report Recall, Precision, F1 \n",
    "for each class on the test data"
   ]
  },
  {
   "cell_type": "code",
   "execution_count": 154,
   "metadata": {},
   "outputs": [],
   "source": [
    "\n",
    "y_pred = np.argmax(compute_prediction(x_test, weights), axis=1)\n"
   ]
  },
  {
   "cell_type": "code",
   "execution_count": 155,
   "metadata": {
    "collapsed": true
   },
   "outputs": [
    {
     "ename": "AxisError",
     "evalue": "axis 1 is out of bounds for array of dimension 1",
     "output_type": "error",
     "traceback": [
      "\u001b[0;31m---------------------------------------------------------------------------\u001b[0m",
      "\u001b[0;31mAxisError\u001b[0m                                 Traceback (most recent call last)",
      "\u001b[0;32m<ipython-input-155-498de5f81bc3>\u001b[0m in \u001b[0;36m<module>\u001b[0;34m\u001b[0m\n\u001b[0;32m----> 1\u001b[0;31m \u001b[0my_test\u001b[0m \u001b[0;34m=\u001b[0m \u001b[0mnp\u001b[0m\u001b[0;34m.\u001b[0m\u001b[0margmax\u001b[0m\u001b[0;34m(\u001b[0m\u001b[0my_test\u001b[0m\u001b[0;34m,\u001b[0m \u001b[0maxis\u001b[0m\u001b[0;34m=\u001b[0m\u001b[0;36m1\u001b[0m\u001b[0;34m)\u001b[0m\u001b[0;34m\u001b[0m\u001b[0;34m\u001b[0m\u001b[0m\n\u001b[0m",
      "\u001b[0;32m<__array_function__ internals>\u001b[0m in \u001b[0;36margmax\u001b[0;34m(*args, **kwargs)\u001b[0m\n",
      "\u001b[0;32m/usr/local/lib/python3.6/dist-packages/numpy/core/fromnumeric.py\u001b[0m in \u001b[0;36margmax\u001b[0;34m(a, axis, out)\u001b[0m\n\u001b[1;32m   1186\u001b[0m \u001b[0;34m\u001b[0m\u001b[0m\n\u001b[1;32m   1187\u001b[0m     \"\"\"\n\u001b[0;32m-> 1188\u001b[0;31m     \u001b[0;32mreturn\u001b[0m \u001b[0m_wrapfunc\u001b[0m\u001b[0;34m(\u001b[0m\u001b[0ma\u001b[0m\u001b[0;34m,\u001b[0m \u001b[0;34m'argmax'\u001b[0m\u001b[0;34m,\u001b[0m \u001b[0maxis\u001b[0m\u001b[0;34m=\u001b[0m\u001b[0maxis\u001b[0m\u001b[0;34m,\u001b[0m \u001b[0mout\u001b[0m\u001b[0;34m=\u001b[0m\u001b[0mout\u001b[0m\u001b[0;34m)\u001b[0m\u001b[0;34m\u001b[0m\u001b[0;34m\u001b[0m\u001b[0m\n\u001b[0m\u001b[1;32m   1189\u001b[0m \u001b[0;34m\u001b[0m\u001b[0m\n\u001b[1;32m   1190\u001b[0m \u001b[0;34m\u001b[0m\u001b[0m\n",
      "\u001b[0;32m/usr/local/lib/python3.6/dist-packages/numpy/core/fromnumeric.py\u001b[0m in \u001b[0;36m_wrapfunc\u001b[0;34m(obj, method, *args, **kwds)\u001b[0m\n\u001b[1;32m     56\u001b[0m \u001b[0;34m\u001b[0m\u001b[0m\n\u001b[1;32m     57\u001b[0m     \u001b[0;32mtry\u001b[0m\u001b[0;34m:\u001b[0m\u001b[0;34m\u001b[0m\u001b[0;34m\u001b[0m\u001b[0m\n\u001b[0;32m---> 58\u001b[0;31m         \u001b[0;32mreturn\u001b[0m \u001b[0mbound\u001b[0m\u001b[0;34m(\u001b[0m\u001b[0;34m*\u001b[0m\u001b[0margs\u001b[0m\u001b[0;34m,\u001b[0m \u001b[0;34m**\u001b[0m\u001b[0mkwds\u001b[0m\u001b[0;34m)\u001b[0m\u001b[0;34m\u001b[0m\u001b[0;34m\u001b[0m\u001b[0m\n\u001b[0m\u001b[1;32m     59\u001b[0m     \u001b[0;32mexcept\u001b[0m \u001b[0mTypeError\u001b[0m\u001b[0;34m:\u001b[0m\u001b[0;34m\u001b[0m\u001b[0;34m\u001b[0m\u001b[0m\n\u001b[1;32m     60\u001b[0m         \u001b[0;31m# A TypeError occurs if the object does have such a method in its\u001b[0m\u001b[0;34m\u001b[0m\u001b[0;34m\u001b[0m\u001b[0;34m\u001b[0m\u001b[0m\n",
      "\u001b[0;31mAxisError\u001b[0m: axis 1 is out of bounds for array of dimension 1"
     ]
    }
   ],
   "source": [
    "y_test = np.argmax(y_test, axis=1)"
   ]
  },
  {
   "cell_type": "code",
   "execution_count": 156,
   "metadata": {},
   "outputs": [
    {
     "name": "stdout",
     "output_type": "stream",
     "text": [
      "(2000,)\n",
      "(2000,)\n"
     ]
    }
   ],
   "source": [
    "print(y_test.shape)\n",
    "print(y_pred.shape)"
   ]
  },
  {
   "cell_type": "code",
   "execution_count": 157,
   "metadata": {
    "scrolled": true
   },
   "outputs": [
    {
     "name": "stdout",
     "output_type": "stream",
     "text": [
      "              precision    recall  f1-score   support\n",
      "\n",
      "           0       0.75      0.78      0.76       592\n",
      "           1       0.74      0.25      0.37       260\n",
      "           2       0.81      0.91      0.86      1148\n",
      "\n",
      "    accuracy                           0.79      2000\n",
      "   macro avg       0.77      0.65      0.67      2000\n",
      "weighted avg       0.78      0.79      0.77      2000\n",
      "\n"
     ]
    }
   ],
   "source": [
    "print(classification_report(y_test, y_pred))"
   ]
  },
  {
   "cell_type": "markdown",
   "metadata": {},
   "source": [
    "## Multilayer Perceptron"
   ]
  },
  {
   "cell_type": "code",
   "execution_count": 247,
   "metadata": {},
   "outputs": [],
   "source": [
    "\n",
    "def sigmoid(x):\n",
    "    h = 1 / (1 + np.exp(-x))\n",
    "    return h\n",
    "\n",
    "def sigmoid_grad(z):\n",
    "    return sigmoid(z) * (1 - sigmoid(z))\n",
    "\n",
    "def compute_loss_nn(yhat, y):\n",
    "    batch_size = yhat.shape[0]\n",
    "    celoss = (-1/batch_size) * np.sum(y * np.log(yhat)) #+ ((-lam/batch_size) * (np.sum(np.square(theta1)) + np.sum(np.square(theta2)))))\n",
    "    return celoss\n",
    "\n",
    "def predict(x, theta1, theta2):\n",
    "    z_2 = x @ theta1.transpose()\n",
    "    a_2 = sigmoid(z_2)\n",
    "    a_2 = np.c_[np.ones(a_2.shape[0]), a_2]\n",
    "    z_3 = a_2 @ theta2.transpose()\n",
    "    a_3 = sigmoid(z_3)\n",
    "    return a_3"
   ]
  },
  {
   "cell_type": "code",
   "execution_count": 248,
   "metadata": {},
   "outputs": [],
   "source": [
    "MLP_MB_history = {'hiddennodes=10' :{'train_loss': [], 'train_acc': [], 'val_loss': [], 'val_acc': []},\n",
    "    'hiddennodes=25' :{'train_loss': [], 'train_acc': [], 'val_loss': [], 'val_acc': []},\n",
    "                  'hiddennodes=5' :{'train_loss': [], 'train_acc': [], 'val_loss': [], 'val_acc': []},\n",
    "              'hiddennodes=100' :{'train_loss': [], 'train_acc': [], 'val_loss': [], 'val_acc': []},\n",
    "                  'hiddennodes=200' :{'train_loss': [], 'train_acc': [], 'val_loss': [], 'val_acc': []},\n",
    "              }"
   ]
  },
  {
   "cell_type": "code",
   "execution_count": 249,
   "metadata": {
    "scrolled": true
   },
   "outputs": [
    {
     "name": "stdout",
     "output_type": "stream",
     "text": [
      "Epoch 0 trained on  5 hidden nodes,   train_loss: 1.0249 train_acc: 0.57186    val_loss: 0.9424 val_acc: 0.572\n",
      "Epoch 1 trained on  5 hidden nodes,   train_loss: 0.9432 train_acc: 0.57186    val_loss: 0.9407 val_acc: 0.572\n",
      "Epoch 2 trained on  5 hidden nodes,   train_loss: 0.9416 train_acc: 0.57186    val_loss: 0.9391 val_acc: 0.572\n",
      "Epoch 3 trained on  5 hidden nodes,   train_loss: 0.9402 train_acc: 0.57186    val_loss: 0.9377 val_acc: 0.572\n",
      "Epoch 4 trained on  5 hidden nodes,   train_loss: 0.939 train_acc: 0.57186    val_loss: 0.9364 val_acc: 0.572\n",
      "Epoch 5 trained on  5 hidden nodes,   train_loss: 0.9378 train_acc: 0.57186    val_loss: 0.9353 val_acc: 0.572\n",
      "Epoch 6 trained on  5 hidden nodes,   train_loss: 0.9367 train_acc: 0.57186    val_loss: 0.9342 val_acc: 0.572\n",
      "Epoch 7 trained on  5 hidden nodes,   train_loss: 0.9357 train_acc: 0.57186    val_loss: 0.9331 val_acc: 0.572\n",
      "Epoch 8 trained on  5 hidden nodes,   train_loss: 0.9347 train_acc: 0.57186    val_loss: 0.9321 val_acc: 0.572\n",
      "Epoch 9 trained on  5 hidden nodes,   train_loss: 0.9337 train_acc: 0.57186    val_loss: 0.9311 val_acc: 0.572\n",
      "Epoch 10 trained on  5 hidden nodes,   train_loss: 0.9328 train_acc: 0.57186    val_loss: 0.9301 val_acc: 0.572\n",
      "Epoch 11 trained on  5 hidden nodes,   train_loss: 0.9318 train_acc: 0.57186    val_loss: 0.9291 val_acc: 0.572\n",
      "Epoch 12 trained on  5 hidden nodes,   train_loss: 0.9308 train_acc: 0.57186    val_loss: 0.9281 val_acc: 0.572\n",
      "Epoch 13 trained on  5 hidden nodes,   train_loss: 0.9297 train_acc: 0.57186    val_loss: 0.927 val_acc: 0.572\n",
      "Epoch 14 trained on  5 hidden nodes,   train_loss: 0.9287 train_acc: 0.57186    val_loss: 0.9259 val_acc: 0.572\n",
      "Epoch 15 trained on  5 hidden nodes,   train_loss: 0.9275 train_acc: 0.57186    val_loss: 0.9248 val_acc: 0.572\n",
      "Epoch 16 trained on  5 hidden nodes,   train_loss: 0.9263 train_acc: 0.57193    val_loss: 0.9236 val_acc: 0.572\n",
      "Epoch 17 trained on  5 hidden nodes,   train_loss: 0.925 train_acc: 0.572    val_loss: 0.9223 val_acc: 0.572\n",
      "Epoch 18 trained on  5 hidden nodes,   train_loss: 0.9236 train_acc: 0.57214    val_loss: 0.9209 val_acc: 0.572\n",
      "Epoch 19 trained on  5 hidden nodes,   train_loss: 0.9221 train_acc: 0.57257    val_loss: 0.9194 val_acc: 0.572\n",
      "Epoch 20 trained on  5 hidden nodes,   train_loss: 0.9204 train_acc: 0.57343    val_loss: 0.9177 val_acc: 0.5725\n",
      "Epoch 21 trained on  5 hidden nodes,   train_loss: 0.9185 train_acc: 0.55407    val_loss: 0.9159 val_acc: 0.557\n",
      "Epoch 22 trained on  5 hidden nodes,   train_loss: 0.9165 train_acc: 0.55479    val_loss: 0.9139 val_acc: 0.55875\n",
      "Epoch 23 trained on  5 hidden nodes,   train_loss: 0.9143 train_acc: 0.55657    val_loss: 0.9117 val_acc: 0.56075\n",
      "Epoch 24 trained on  5 hidden nodes,   train_loss: 0.9118 train_acc: 0.55829    val_loss: 0.9093 val_acc: 0.562\n",
      "Epoch 25 trained on  5 hidden nodes,   train_loss: 0.909 train_acc: 0.56157    val_loss: 0.9066 val_acc: 0.56525\n",
      "Epoch 26 trained on  5 hidden nodes,   train_loss: 0.9059 train_acc: 0.5635    val_loss: 0.9036 val_acc: 0.56775\n",
      "Epoch 27 trained on  5 hidden nodes,   train_loss: 0.9025 train_acc: 0.56714    val_loss: 0.9003 val_acc: 0.57075\n",
      "Epoch 28 trained on  5 hidden nodes,   train_loss: 0.8987 train_acc: 0.57086    val_loss: 0.8966 val_acc: 0.574\n",
      "Epoch 29 trained on  5 hidden nodes,   train_loss: 0.8944 train_acc: 0.57536    val_loss: 0.8925 val_acc: 0.578\n",
      "Epoch 30 trained on  5 hidden nodes,   train_loss: 0.8897 train_acc: 0.58121    val_loss: 0.888 val_acc: 0.58075\n",
      "Epoch 31 trained on  5 hidden nodes,   train_loss: 0.8845 train_acc: 0.58714    val_loss: 0.883 val_acc: 0.58525\n",
      "Epoch 32 trained on  5 hidden nodes,   train_loss: 0.8788 train_acc: 0.59321    val_loss: 0.8775 val_acc: 0.59125\n",
      "Epoch 33 trained on  5 hidden nodes,   train_loss: 0.8725 train_acc: 0.59893    val_loss: 0.8715 val_acc: 0.596\n",
      "Epoch 34 trained on  5 hidden nodes,   train_loss: 0.8656 train_acc: 0.60514    val_loss: 0.865 val_acc: 0.601\n",
      "Epoch 35 trained on  5 hidden nodes,   train_loss: 0.8582 train_acc: 0.61221    val_loss: 0.858 val_acc: 0.6065\n",
      "Epoch 36 trained on  5 hidden nodes,   train_loss: 0.8502 train_acc: 0.61957    val_loss: 0.8504 val_acc: 0.615\n",
      "Epoch 37 trained on  5 hidden nodes,   train_loss: 0.8416 train_acc: 0.62664    val_loss: 0.8423 val_acc: 0.621\n",
      "Epoch 38 trained on  5 hidden nodes,   train_loss: 0.8324 train_acc: 0.63471    val_loss: 0.8337 val_acc: 0.62875\n",
      "Epoch 39 trained on  5 hidden nodes,   train_loss: 0.8226 train_acc: 0.64314    val_loss: 0.8246 val_acc: 0.6355\n",
      "Epoch 40 trained on  5 hidden nodes,   train_loss: 0.8124 train_acc: 0.65086    val_loss: 0.815 val_acc: 0.64275\n",
      "Epoch 41 trained on  5 hidden nodes,   train_loss: 0.8017 train_acc: 0.65736    val_loss: 0.805 val_acc: 0.64775\n",
      "Epoch 42 trained on  5 hidden nodes,   train_loss: 0.7906 train_acc: 0.66636    val_loss: 0.7947 val_acc: 0.6555\n",
      "Epoch 43 trained on  5 hidden nodes,   train_loss: 0.7791 train_acc: 0.67364    val_loss: 0.7841 val_acc: 0.66125\n",
      "Epoch 44 trained on  5 hidden nodes,   train_loss: 0.7673 train_acc: 0.68093    val_loss: 0.7732 val_acc: 0.66775\n",
      "Epoch 45 trained on  5 hidden nodes,   train_loss: 0.7553 train_acc: 0.68821    val_loss: 0.7621 val_acc: 0.676\n",
      "Epoch 46 trained on  5 hidden nodes,   train_loss: 0.7431 train_acc: 0.69521    val_loss: 0.7509 val_acc: 0.683\n",
      "Epoch 47 trained on  5 hidden nodes,   train_loss: 0.7307 train_acc: 0.70157    val_loss: 0.7396 val_acc: 0.69075\n",
      "Epoch 48 trained on  5 hidden nodes,   train_loss: 0.7184 train_acc: 0.70671    val_loss: 0.7283 val_acc: 0.69825\n",
      "Epoch 49 trained on  5 hidden nodes,   train_loss: 0.706 train_acc: 0.73307    val_loss: 0.7171 val_acc: 0.72075\n",
      "Epoch 50 trained on  5 hidden nodes,   train_loss: 0.6938 train_acc: 0.73979    val_loss: 0.706 val_acc: 0.72425\n",
      "Epoch 51 trained on  5 hidden nodes,   train_loss: 0.6816 train_acc: 0.74564    val_loss: 0.6951 val_acc: 0.7285\n",
      "Epoch 52 trained on  5 hidden nodes,   train_loss: 0.6697 train_acc: 0.75136    val_loss: 0.6843 val_acc: 0.73375\n",
      "Epoch 53 trained on  5 hidden nodes,   train_loss: 0.6579 train_acc: 0.7565    val_loss: 0.6739 val_acc: 0.7385\n",
      "Epoch 54 trained on  5 hidden nodes,   train_loss: 0.6465 train_acc: 0.76107    val_loss: 0.6637 val_acc: 0.743\n",
      "Epoch 55 trained on  5 hidden nodes,   train_loss: 0.6353 train_acc: 0.76679    val_loss: 0.6539 val_acc: 0.74725\n",
      "Epoch 56 trained on  5 hidden nodes,   train_loss: 0.6245 train_acc: 0.77214    val_loss: 0.6444 val_acc: 0.7505\n",
      "Epoch 57 trained on  5 hidden nodes,   train_loss: 0.614 train_acc: 0.7765    val_loss: 0.6353 val_acc: 0.75525\n",
      "Epoch 58 trained on  5 hidden nodes,   train_loss: 0.6038 train_acc: 0.78057    val_loss: 0.6265 val_acc: 0.75875\n",
      "Epoch 59 trained on  5 hidden nodes,   train_loss: 0.5941 train_acc: 0.784    val_loss: 0.6182 val_acc: 0.76225\n",
      "Epoch 60 trained on  5 hidden nodes,   train_loss: 0.5846 train_acc: 0.78714    val_loss: 0.6102 val_acc: 0.765\n",
      "Epoch 61 trained on  5 hidden nodes,   train_loss: 0.5756 train_acc: 0.78993    val_loss: 0.6026 val_acc: 0.7675\n",
      "Epoch 62 trained on  5 hidden nodes,   train_loss: 0.5669 train_acc: 0.79279    val_loss: 0.5954 val_acc: 0.7715\n",
      "Epoch 63 trained on  5 hidden nodes,   train_loss: 0.5585 train_acc: 0.79679    val_loss: 0.5884 val_acc: 0.77525\n",
      "Epoch 64 trained on  5 hidden nodes,   train_loss: 0.5505 train_acc: 0.80029    val_loss: 0.5818 val_acc: 0.77875\n",
      "Epoch 65 trained on  5 hidden nodes,   train_loss: 0.5427 train_acc: 0.80336    val_loss: 0.5755 val_acc: 0.78125\n",
      "Epoch 66 trained on  5 hidden nodes,   train_loss: 0.5352 train_acc: 0.80636    val_loss: 0.5695 val_acc: 0.78275\n",
      "Epoch 67 trained on  5 hidden nodes,   train_loss: 0.528 train_acc: 0.80886    val_loss: 0.5637 val_acc: 0.7845\n",
      "Epoch 68 trained on  5 hidden nodes,   train_loss: 0.5211 train_acc: 0.811    val_loss: 0.5582 val_acc: 0.7875\n",
      "Epoch 69 trained on  5 hidden nodes,   train_loss: 0.5143 train_acc: 0.81336    val_loss: 0.5528 val_acc: 0.78975\n",
      "Epoch 70 trained on  5 hidden nodes,   train_loss: 0.5078 train_acc: 0.81536    val_loss: 0.5477 val_acc: 0.7915\n",
      "Epoch 71 trained on  5 hidden nodes,   train_loss: 0.5015 train_acc: 0.81693    val_loss: 0.5428 val_acc: 0.793\n",
      "Epoch 72 trained on  5 hidden nodes,   train_loss: 0.4953 train_acc: 0.81886    val_loss: 0.538 val_acc: 0.795\n",
      "Epoch 73 trained on  5 hidden nodes,   train_loss: 0.4893 train_acc: 0.82086    val_loss: 0.5334 val_acc: 0.79475\n",
      "Epoch 74 trained on  5 hidden nodes,   train_loss: 0.4835 train_acc: 0.82286    val_loss: 0.5289 val_acc: 0.79775\n"
     ]
    },
    {
     "name": "stdout",
     "output_type": "stream",
     "text": [
      "Epoch 75 trained on  5 hidden nodes,   train_loss: 0.4778 train_acc: 0.82536    val_loss: 0.5246 val_acc: 0.79875\n",
      "Epoch 76 trained on  5 hidden nodes,   train_loss: 0.4722 train_acc: 0.82721    val_loss: 0.5204 val_acc: 0.801\n",
      "Epoch 77 trained on  5 hidden nodes,   train_loss: 0.4668 train_acc: 0.82929    val_loss: 0.5163 val_acc: 0.80275\n",
      "Epoch 78 trained on  5 hidden nodes,   train_loss: 0.4615 train_acc: 0.83129    val_loss: 0.5123 val_acc: 0.8055\n",
      "Epoch 79 trained on  5 hidden nodes,   train_loss: 0.4562 train_acc: 0.83271    val_loss: 0.5083 val_acc: 0.807\n",
      "Epoch 80 trained on  5 hidden nodes,   train_loss: 0.4511 train_acc: 0.83457    val_loss: 0.5045 val_acc: 0.808\n",
      "Epoch 81 trained on  5 hidden nodes,   train_loss: 0.4461 train_acc: 0.83643    val_loss: 0.5008 val_acc: 0.809\n",
      "Epoch 82 trained on  5 hidden nodes,   train_loss: 0.4411 train_acc: 0.83879    val_loss: 0.4972 val_acc: 0.81\n",
      "Epoch 83 trained on  5 hidden nodes,   train_loss: 0.4363 train_acc: 0.8405    val_loss: 0.4936 val_acc: 0.8115\n",
      "Epoch 84 trained on  5 hidden nodes,   train_loss: 0.4315 train_acc: 0.84221    val_loss: 0.4901 val_acc: 0.813\n",
      "Epoch 85 trained on  5 hidden nodes,   train_loss: 0.4268 train_acc: 0.84343    val_loss: 0.4867 val_acc: 0.81375\n",
      "Epoch 86 trained on  5 hidden nodes,   train_loss: 0.4221 train_acc: 0.84586    val_loss: 0.4833 val_acc: 0.81475\n",
      "Epoch 87 trained on  5 hidden nodes,   train_loss: 0.4175 train_acc: 0.84757    val_loss: 0.48 val_acc: 0.8155\n",
      "Epoch 88 trained on  5 hidden nodes,   train_loss: 0.413 train_acc: 0.8495    val_loss: 0.4768 val_acc: 0.8175\n",
      "Epoch 89 trained on  5 hidden nodes,   train_loss: 0.4086 train_acc: 0.85143    val_loss: 0.4737 val_acc: 0.81825\n",
      "Epoch 90 trained on  5 hidden nodes,   train_loss: 0.4042 train_acc: 0.85279    val_loss: 0.4705 val_acc: 0.8195\n",
      "Epoch 91 trained on  5 hidden nodes,   train_loss: 0.3998 train_acc: 0.8545    val_loss: 0.4675 val_acc: 0.82\n",
      "Epoch 92 trained on  5 hidden nodes,   train_loss: 0.3956 train_acc: 0.85707    val_loss: 0.4645 val_acc: 0.8215\n",
      "Epoch 93 trained on  5 hidden nodes,   train_loss: 0.3913 train_acc: 0.85864    val_loss: 0.4615 val_acc: 0.8225\n",
      "Epoch 94 trained on  5 hidden nodes,   train_loss: 0.3872 train_acc: 0.86014    val_loss: 0.4586 val_acc: 0.82325\n",
      "Epoch 95 trained on  5 hidden nodes,   train_loss: 0.3831 train_acc: 0.86186    val_loss: 0.4558 val_acc: 0.82525\n",
      "Epoch 96 trained on  5 hidden nodes,   train_loss: 0.379 train_acc: 0.86371    val_loss: 0.453 val_acc: 0.82725\n",
      "Epoch 97 trained on  5 hidden nodes,   train_loss: 0.375 train_acc: 0.86564    val_loss: 0.4502 val_acc: 0.82875\n",
      "Epoch 98 trained on  5 hidden nodes,   train_loss: 0.371 train_acc: 0.86664    val_loss: 0.4475 val_acc: 0.82875\n",
      "Epoch 99 trained on  5 hidden nodes,   train_loss: 0.3671 train_acc: 0.86771    val_loss: 0.4449 val_acc: 0.83\n",
      "Epoch 100 trained on  5 hidden nodes,   train_loss: 0.3633 train_acc: 0.86943    val_loss: 0.4423 val_acc: 0.831\n",
      "Epoch 101 trained on  5 hidden nodes,   train_loss: 0.3595 train_acc: 0.87136    val_loss: 0.4397 val_acc: 0.831\n",
      "Epoch 102 trained on  5 hidden nodes,   train_loss: 0.3558 train_acc: 0.87229    val_loss: 0.4372 val_acc: 0.833\n",
      "Epoch 103 trained on  5 hidden nodes,   train_loss: 0.3521 train_acc: 0.87407    val_loss: 0.4347 val_acc: 0.83375\n",
      "Epoch 104 trained on  5 hidden nodes,   train_loss: 0.3485 train_acc: 0.87579    val_loss: 0.4323 val_acc: 0.834\n",
      "Epoch 105 trained on  5 hidden nodes,   train_loss: 0.3449 train_acc: 0.87729    val_loss: 0.4299 val_acc: 0.8365\n",
      "Epoch 106 trained on  5 hidden nodes,   train_loss: 0.3414 train_acc: 0.87907    val_loss: 0.4276 val_acc: 0.837\n",
      "Epoch 107 trained on  5 hidden nodes,   train_loss: 0.3379 train_acc: 0.88007    val_loss: 0.4253 val_acc: 0.837\n",
      "Epoch 108 trained on  5 hidden nodes,   train_loss: 0.3345 train_acc: 0.88107    val_loss: 0.423 val_acc: 0.8385\n",
      "Epoch 109 trained on  5 hidden nodes,   train_loss: 0.3311 train_acc: 0.88257    val_loss: 0.4208 val_acc: 0.83925\n",
      "Epoch 110 trained on  5 hidden nodes,   train_loss: 0.3278 train_acc: 0.88357    val_loss: 0.4187 val_acc: 0.841\n",
      "Epoch 111 trained on  5 hidden nodes,   train_loss: 0.3246 train_acc: 0.88479    val_loss: 0.4165 val_acc: 0.8425\n",
      "Epoch 112 trained on  5 hidden nodes,   train_loss: 0.3214 train_acc: 0.88571    val_loss: 0.4145 val_acc: 0.84375\n",
      "Epoch 113 trained on  5 hidden nodes,   train_loss: 0.3182 train_acc: 0.88657    val_loss: 0.4124 val_acc: 0.84375\n",
      "Epoch 114 trained on  5 hidden nodes,   train_loss: 0.3152 train_acc: 0.88807    val_loss: 0.4104 val_acc: 0.8455\n",
      "Epoch 115 trained on  5 hidden nodes,   train_loss: 0.3121 train_acc: 0.88979    val_loss: 0.4085 val_acc: 0.84625\n",
      "Epoch 116 trained on  5 hidden nodes,   train_loss: 0.3092 train_acc: 0.89157    val_loss: 0.4066 val_acc: 0.8475\n",
      "Epoch 117 trained on  5 hidden nodes,   train_loss: 0.3063 train_acc: 0.89279    val_loss: 0.4047 val_acc: 0.848\n",
      "Epoch 118 trained on  5 hidden nodes,   train_loss: 0.3034 train_acc: 0.89293    val_loss: 0.4029 val_acc: 0.847\n",
      "Epoch 119 trained on  5 hidden nodes,   train_loss: 0.3006 train_acc: 0.89464    val_loss: 0.4011 val_acc: 0.84775\n",
      "Epoch 120 trained on  5 hidden nodes,   train_loss: 0.2978 train_acc: 0.89614    val_loss: 0.3993 val_acc: 0.84825\n",
      "Epoch 121 trained on  5 hidden nodes,   train_loss: 0.2951 train_acc: 0.89779    val_loss: 0.3976 val_acc: 0.849\n",
      "Epoch 122 trained on  5 hidden nodes,   train_loss: 0.2925 train_acc: 0.89893    val_loss: 0.3959 val_acc: 0.85025\n",
      "Epoch 123 trained on  5 hidden nodes,   train_loss: 0.2899 train_acc: 0.90014    val_loss: 0.3943 val_acc: 0.851\n",
      "Epoch 124 trained on  5 hidden nodes,   train_loss: 0.2873 train_acc: 0.90171    val_loss: 0.3927 val_acc: 0.85175\n",
      "Epoch 125 trained on  5 hidden nodes,   train_loss: 0.2848 train_acc: 0.90307    val_loss: 0.3912 val_acc: 0.853\n",
      "Epoch 126 trained on  5 hidden nodes,   train_loss: 0.2824 train_acc: 0.90414    val_loss: 0.3896 val_acc: 0.854\n",
      "Epoch 127 trained on  5 hidden nodes,   train_loss: 0.28 train_acc: 0.90507    val_loss: 0.3881 val_acc: 0.855\n",
      "Epoch 128 trained on  5 hidden nodes,   train_loss: 0.2776 train_acc: 0.906    val_loss: 0.3867 val_acc: 0.8555\n",
      "Epoch 129 trained on  5 hidden nodes,   train_loss: 0.2753 train_acc: 0.90693    val_loss: 0.3852 val_acc: 0.85625\n",
      "Epoch 130 trained on  5 hidden nodes,   train_loss: 0.273 train_acc: 0.90771    val_loss: 0.3839 val_acc: 0.857\n",
      "Epoch 131 trained on  5 hidden nodes,   train_loss: 0.2708 train_acc: 0.90829    val_loss: 0.3825 val_acc: 0.85725\n",
      "Epoch 132 trained on  5 hidden nodes,   train_loss: 0.2686 train_acc: 0.909    val_loss: 0.3812 val_acc: 0.8575\n",
      "Epoch 133 trained on  5 hidden nodes,   train_loss: 0.2665 train_acc: 0.90986    val_loss: 0.3799 val_acc: 0.8585\n",
      "Epoch 134 trained on  5 hidden nodes,   train_loss: 0.2644 train_acc: 0.91071    val_loss: 0.3786 val_acc: 0.859\n",
      "Epoch 135 trained on  5 hidden nodes,   train_loss: 0.2624 train_acc: 0.91121    val_loss: 0.3774 val_acc: 0.85925\n",
      "Epoch 136 trained on  5 hidden nodes,   train_loss: 0.2603 train_acc: 0.91186    val_loss: 0.3761 val_acc: 0.8605\n",
      "Epoch 137 trained on  5 hidden nodes,   train_loss: 0.2584 train_acc: 0.91279    val_loss: 0.375 val_acc: 0.86125\n",
      "Epoch 138 trained on  5 hidden nodes,   train_loss: 0.2564 train_acc: 0.91371    val_loss: 0.3738 val_acc: 0.86175\n",
      "Epoch 139 trained on  5 hidden nodes,   train_loss: 0.2545 train_acc: 0.91421    val_loss: 0.3727 val_acc: 0.8625\n",
      "Epoch 140 trained on  5 hidden nodes,   train_loss: 0.2527 train_acc: 0.91479    val_loss: 0.3716 val_acc: 0.863\n",
      "Epoch 141 trained on  5 hidden nodes,   train_loss: 0.2508 train_acc: 0.91579    val_loss: 0.3705 val_acc: 0.8635\n",
      "Epoch 142 trained on  5 hidden nodes,   train_loss: 0.249 train_acc: 0.91664    val_loss: 0.3694 val_acc: 0.86375\n",
      "Epoch 143 trained on  5 hidden nodes,   train_loss: 0.2472 train_acc: 0.91736    val_loss: 0.3684 val_acc: 0.865\n",
      "Epoch 144 trained on  5 hidden nodes,   train_loss: 0.2455 train_acc: 0.91807    val_loss: 0.3674 val_acc: 0.86525\n",
      "Epoch 145 trained on  5 hidden nodes,   train_loss: 0.2438 train_acc: 0.91871    val_loss: 0.3664 val_acc: 0.86575\n",
      "Epoch 146 trained on  5 hidden nodes,   train_loss: 0.2421 train_acc: 0.91921    val_loss: 0.3655 val_acc: 0.8665\n",
      "Epoch 147 trained on  5 hidden nodes,   train_loss: 0.2405 train_acc: 0.92    val_loss: 0.3645 val_acc: 0.86675\n",
      "Epoch 148 trained on  5 hidden nodes,   train_loss: 0.2389 train_acc: 0.92064    val_loss: 0.3636 val_acc: 0.86775\n",
      "Epoch 149 trained on  5 hidden nodes,   train_loss: 0.2373 train_acc: 0.92114    val_loss: 0.3627 val_acc: 0.86825\n"
     ]
    },
    {
     "name": "stdout",
     "output_type": "stream",
     "text": [
      "Epoch 150 trained on  5 hidden nodes,   train_loss: 0.2357 train_acc: 0.92164    val_loss: 0.3619 val_acc: 0.86925\n",
      "Epoch 151 trained on  5 hidden nodes,   train_loss: 0.2342 train_acc: 0.92229    val_loss: 0.361 val_acc: 0.8695\n",
      "Epoch 152 trained on  5 hidden nodes,   train_loss: 0.2327 train_acc: 0.92286    val_loss: 0.3602 val_acc: 0.8695\n",
      "Epoch 153 trained on  5 hidden nodes,   train_loss: 0.2312 train_acc: 0.92343    val_loss: 0.3594 val_acc: 0.87\n",
      "Epoch 154 trained on  5 hidden nodes,   train_loss: 0.2297 train_acc: 0.92393    val_loss: 0.3586 val_acc: 0.87025\n",
      "Epoch 155 trained on  5 hidden nodes,   train_loss: 0.2283 train_acc: 0.92464    val_loss: 0.3578 val_acc: 0.8705\n",
      "Epoch 156 trained on  5 hidden nodes,   train_loss: 0.2269 train_acc: 0.92514    val_loss: 0.3571 val_acc: 0.8705\n",
      "Epoch 157 trained on  5 hidden nodes,   train_loss: 0.2255 train_acc: 0.92586    val_loss: 0.3564 val_acc: 0.87075\n",
      "Epoch 158 trained on  5 hidden nodes,   train_loss: 0.2241 train_acc: 0.9265    val_loss: 0.3557 val_acc: 0.8705\n",
      "Epoch 159 trained on  5 hidden nodes,   train_loss: 0.2227 train_acc: 0.92714    val_loss: 0.355 val_acc: 0.87075\n",
      "Epoch 160 trained on  5 hidden nodes,   train_loss: 0.2214 train_acc: 0.92793    val_loss: 0.3543 val_acc: 0.87125\n",
      "Epoch 161 trained on  5 hidden nodes,   train_loss: 0.2201 train_acc: 0.92864    val_loss: 0.3537 val_acc: 0.8715\n",
      "Epoch 162 trained on  5 hidden nodes,   train_loss: 0.2188 train_acc: 0.92929    val_loss: 0.353 val_acc: 0.87125\n",
      "Epoch 163 trained on  5 hidden nodes,   train_loss: 0.2176 train_acc: 0.92979    val_loss: 0.3524 val_acc: 0.8715\n",
      "Epoch 164 trained on  5 hidden nodes,   train_loss: 0.2163 train_acc: 0.93014    val_loss: 0.3518 val_acc: 0.872\n",
      "Epoch 165 trained on  5 hidden nodes,   train_loss: 0.2151 train_acc: 0.93071    val_loss: 0.3512 val_acc: 0.873\n",
      "Epoch 166 trained on  5 hidden nodes,   train_loss: 0.2139 train_acc: 0.93114    val_loss: 0.3507 val_acc: 0.87375\n",
      "Epoch 167 trained on  5 hidden nodes,   train_loss: 0.2127 train_acc: 0.93143    val_loss: 0.3501 val_acc: 0.87375\n",
      "Epoch 168 trained on  5 hidden nodes,   train_loss: 0.2115 train_acc: 0.93171    val_loss: 0.3496 val_acc: 0.87425\n",
      "Epoch 169 trained on  5 hidden nodes,   train_loss: 0.2104 train_acc: 0.93236    val_loss: 0.3491 val_acc: 0.8745\n",
      "Epoch 170 trained on  5 hidden nodes,   train_loss: 0.2092 train_acc: 0.93271    val_loss: 0.3486 val_acc: 0.87475\n",
      "Epoch 171 trained on  5 hidden nodes,   train_loss: 0.2081 train_acc: 0.93286    val_loss: 0.3481 val_acc: 0.87525\n",
      "Epoch 172 trained on  5 hidden nodes,   train_loss: 0.207 train_acc: 0.93343    val_loss: 0.3476 val_acc: 0.875\n",
      "Epoch 173 trained on  5 hidden nodes,   train_loss: 0.2059 train_acc: 0.93379    val_loss: 0.3472 val_acc: 0.8755\n",
      "Epoch 174 trained on  5 hidden nodes,   train_loss: 0.2049 train_acc: 0.93421    val_loss: 0.3467 val_acc: 0.87525\n",
      "Epoch 175 trained on  5 hidden nodes,   train_loss: 0.2038 train_acc: 0.93443    val_loss: 0.3463 val_acc: 0.8755\n",
      "Epoch 176 trained on  5 hidden nodes,   train_loss: 0.2028 train_acc: 0.93521    val_loss: 0.3459 val_acc: 0.8755\n",
      "Epoch 177 trained on  5 hidden nodes,   train_loss: 0.2017 train_acc: 0.93564    val_loss: 0.3455 val_acc: 0.8755\n",
      "Epoch 178 trained on  5 hidden nodes,   train_loss: 0.2007 train_acc: 0.93607    val_loss: 0.3451 val_acc: 0.87575\n",
      "Epoch 179 trained on  5 hidden nodes,   train_loss: 0.1997 train_acc: 0.9365    val_loss: 0.3447 val_acc: 0.8755\n",
      "Epoch 180 trained on  5 hidden nodes,   train_loss: 0.1988 train_acc: 0.93686    val_loss: 0.3443 val_acc: 0.8755\n",
      "Epoch 181 trained on  5 hidden nodes,   train_loss: 0.1978 train_acc: 0.93736    val_loss: 0.344 val_acc: 0.87525\n",
      "Epoch 182 trained on  5 hidden nodes,   train_loss: 0.1968 train_acc: 0.93786    val_loss: 0.3437 val_acc: 0.875\n",
      "Epoch 183 trained on  5 hidden nodes,   train_loss: 0.1959 train_acc: 0.93836    val_loss: 0.3433 val_acc: 0.875\n",
      "Epoch 184 trained on  5 hidden nodes,   train_loss: 0.195 train_acc: 0.93864    val_loss: 0.343 val_acc: 0.87525\n",
      "Epoch 185 trained on  5 hidden nodes,   train_loss: 0.1941 train_acc: 0.93907    val_loss: 0.3427 val_acc: 0.87525\n",
      "Epoch 186 trained on  5 hidden nodes,   train_loss: 0.1932 train_acc: 0.93936    val_loss: 0.3424 val_acc: 0.87525\n",
      "Epoch 187 trained on  5 hidden nodes,   train_loss: 0.1923 train_acc: 0.93979    val_loss: 0.3422 val_acc: 0.87475\n",
      "Epoch 188 trained on  5 hidden nodes,   train_loss: 0.1914 train_acc: 0.93986    val_loss: 0.3419 val_acc: 0.875\n",
      "Epoch 189 trained on  5 hidden nodes,   train_loss: 0.1905 train_acc: 0.94014    val_loss: 0.3416 val_acc: 0.87525\n",
      "Epoch 190 trained on  5 hidden nodes,   train_loss: 0.1897 train_acc: 0.94064    val_loss: 0.3414 val_acc: 0.87575\n",
      "Epoch 191 trained on  5 hidden nodes,   train_loss: 0.1888 train_acc: 0.941    val_loss: 0.3411 val_acc: 0.87575\n",
      "Epoch 192 trained on  5 hidden nodes,   train_loss: 0.188 train_acc: 0.94136    val_loss: 0.3409 val_acc: 0.87575\n",
      "Epoch 193 trained on  5 hidden nodes,   train_loss: 0.1872 train_acc: 0.94143    val_loss: 0.3407 val_acc: 0.87625\n",
      "Epoch 194 trained on  5 hidden nodes,   train_loss: 0.1864 train_acc: 0.94171    val_loss: 0.3405 val_acc: 0.87625\n",
      "Epoch 195 trained on  5 hidden nodes,   train_loss: 0.1856 train_acc: 0.942    val_loss: 0.3403 val_acc: 0.876\n",
      "Epoch 196 trained on  5 hidden nodes,   train_loss: 0.1848 train_acc: 0.94243    val_loss: 0.3401 val_acc: 0.8765\n",
      "Epoch 197 trained on  5 hidden nodes,   train_loss: 0.184 train_acc: 0.94271    val_loss: 0.3399 val_acc: 0.87675\n",
      "Epoch 198 trained on  5 hidden nodes,   train_loss: 0.1832 train_acc: 0.94293    val_loss: 0.3397 val_acc: 0.87675\n",
      "Epoch 199 trained on  5 hidden nodes,   train_loss: 0.1825 train_acc: 0.94321    val_loss: 0.3396 val_acc: 0.87675\n"
     ]
    }
   ],
   "source": [
    "epochs = 200\n",
    "lam = 0.4\n",
    "lr = 0.1\n",
    "hidden_layer_options = [5]\n",
    "batch_size = 64\n",
    "\n",
    "for hidden_nodes in hidden_layer_options:\n",
    "    \n",
    "    # initialize weights\n",
    "    theta1 = np.random.rand(hidden_nodes, num_features)\n",
    "    theta2 = np.random.randn(num_classes, hidden_nodes+1)\n",
    "    \n",
    "    for epoch in range(epochs):\n",
    "        cum_loss = 0\n",
    "        \n",
    "        for i in range(0, num_samples, batch_size):\n",
    "            x = x_train[i: i+batch_size, :]\n",
    "            y = y_train[i: i+batch_size, :]\n",
    "            \n",
    "            z_2 = x @ theta1.transpose()\n",
    "            a_2 = sigmoid(z_2)\n",
    "\n",
    "            a_2 = np.c_[np.ones(a_2.shape[0]), a_2]\n",
    "\n",
    "            z_3 = a_2 @ theta2.transpose()\n",
    "\n",
    "            a_3 = sigmoid(z_3)\n",
    "\n",
    "            delta_3 = a_3 - y\n",
    "\n",
    "            delta_2 = (delta_3 @ theta2) * np.c_[np.ones(z_2.shape[0]), sigmoid_grad(z_2)]\n",
    "            delta_2 = delta_2[:, 1:]\n",
    "\n",
    "            theta1_grad = (1/batch_size) * (delta_2.transpose() @ x) #+ ( (lam/(2*batch_size)) * theta1)\n",
    "            theta2_grad = (1/batch_size) * (delta_3.transpose() @ a_2) #+ ( (lam/(2*batch_size)) * theta2)\n",
    "\n",
    "            loss = compute_loss_nn(a_3, y)\n",
    "            cum_loss += loss\n",
    "\n",
    "            # Adjust weights\n",
    "            theta1 = theta1[:] - lr * theta1_grad\n",
    "            theta2 = theta2[:] - lr * theta2_grad\n",
    "\n",
    "        train_loss = cum_loss / (num_samples / batch_size)\n",
    "        pred = predict(x_train, theta1, theta2)\n",
    "        pred, real = labels_to_vectors(pred, y_train)\n",
    "        train_acc = evaluate_accuracy(pred, real)\n",
    "\n",
    "        y_val_pred = predict(x_val, theta1, theta2)\n",
    "        val_loss = compute_loss_nn(y_val_pred, y_val)\n",
    "        pred, real = labels_to_vectors(y_val_pred, y_val)\n",
    "        val_acc = evaluate_accuracy(pred, real)\n",
    "\n",
    "\n",
    "        print(\"Epoch\", epoch, \"trained on \", hidden_nodes, \"hidden nodes,   train_loss:\", round(train_loss, 4), \"train_acc:\", round(train_acc, 5), \"   val_loss:\", round(val_loss, 4), \"val_acc:\", round(val_acc,5))\n",
    "        MLP_MB_history[str('hiddennodes=' + str(hidden_nodes))]['train_loss'].append(train_loss)\n",
    "        MLP_MB_history[str('hiddennodes=' + str(hidden_nodes))]['train_acc'].append(train_acc)\n",
    "        MLP_MB_history[str('hiddennodes=' + str(hidden_nodes))]['val_loss'].append(val_loss)\n",
    "        MLP_MB_history[str('hiddennodes=' + str(hidden_nodes))]['val_acc'].append(val_acc)"
   ]
  },
  {
   "cell_type": "code",
   "execution_count": 237,
   "metadata": {
    "collapsed": true
   },
   "outputs": [
    {
     "data": {
      "image/png": "[encoded data removed]",
      "text/plain": [
       "<Figure size 432x288 with 1 Axes>"
      ]
     },
     "metadata": {
      "needs_background": "light"
     },
     "output_type": "display_data"
    },
    {
     "data": {
      "image/png": "[encoded data removed]",
      "text/plain": [
       "<Figure size 432x288 with 1 Axes>"
      ]
     },
     "metadata": {
      "needs_background": "light"
     },
     "output_type": "display_data"
    }
   ],
   "source": [
    "for hidden_nodes in hidden_layer_options:\n",
    "    plot_loss(MLP_MB_history[str('hiddennodes=' + str(hidden_nodes))], str('MLP with ' + str(hidden_nodes) + ' hidden nodes'))\n",
    "    plot_accuracy(MLP_MB_history[str('hiddennodes=' + str(hidden_nodes))], str('MLP with ' + str(hidden_nodes) + ' hidden nodes'))"
   ]
  },
  {
   "cell_type": "markdown",
   "metadata": {},
   "source": [
    "## (d) Report Recall, Precision, F1 \n",
    "for each class on the test data"
   ]
  },
  {
   "cell_type": "code",
   "execution_count": 238,
   "metadata": {},
   "outputs": [],
   "source": [
    "y_pred = np.argmax(predict(x_test, theta1, theta2), axis=1)"
   ]
  },
  {
   "cell_type": "code",
   "execution_count": 239,
   "metadata": {},
   "outputs": [
    {
     "name": "stdout",
     "output_type": "stream",
     "text": [
      "(2000,)\n",
      "(2000,)\n"
     ]
    }
   ],
   "source": [
    "print(y_test.shape)\n",
    "print(y_pred.shape)"
   ]
  },
  {
   "cell_type": "code",
   "execution_count": 240,
   "metadata": {
    "scrolled": true
   },
   "outputs": [
    {
     "name": "stdout",
     "output_type": "stream",
     "text": [
      "              precision    recall  f1-score   support\n",
      "\n",
      "           0       0.88      0.83      0.86       592\n",
      "           1       0.76      0.56      0.65       260\n",
      "           2       0.88      0.96      0.92      1148\n",
      "\n",
      "    accuracy                           0.87      2000\n",
      "   macro avg       0.84      0.79      0.81      2000\n",
      "weighted avg       0.87      0.87      0.87      2000\n",
      "\n"
     ]
    }
   ],
   "source": [
    "print(classification_report(y_test, y_pred))"
   ]
  },
  {
   "cell_type": "code",
   "execution_count": null,
   "metadata": {},
   "outputs": [],
   "source": []
  }
 ],
 "metadata": {
  "kernelspec": {
   "display_name": "Python 3",
   "language": "python",
   "name": "python3"
  },
  "language_info": {
   "codemirror_mode": {
    "name": "ipython",
    "version": 3
   },
   "file_extension": ".py",
   "mimetype": "text/x-python",
   "name": "python",
   "nbconvert_exporter": "python",
   "pygments_lexer": "ipython3",
   "version": "3.6.9"
  }
 },
 "nbformat": 4,
 "nbformat_minor": 2
}
